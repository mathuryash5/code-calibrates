{
 "cells": [
  {
   "cell_type": "code",
   "execution_count": 1,
   "id": "977af9a8",
   "metadata": {},
   "outputs": [],
   "source": [
    "import uuid\n",
    "import json\n",
    "import numpy as np\n",
    "import matplotlib.pyplot as plt\n",
    "from collections import defaultdict, Counter\n",
    "import pandas as pd\n",
    "from contextlib import contextmanager\n",
    "import signal\n",
    "from tqdm import tqdm\n",
    "import pickle\n",
    "import collections\n",
    "import os\n",
    "import glob"
   ]
  },
  {
   "cell_type": "code",
   "execution_count": 2,
   "id": "6f212105",
   "metadata": {},
   "outputs": [],
   "source": [
    "@contextmanager\n",
    "def timeout(duration):\n",
    "    def timeout_handler(signum, frame):\n",
    "        raise TimeoutError(f\"block timedout after {duration} seconds\")\n",
    "\n",
    "    signal.signal(signal.SIGALRM, timeout_handler)\n",
    "    signal.alarm(duration)\n",
    "    try:\n",
    "        yield\n",
    "    finally:\n",
    "        signal.alarm(0)"
   ]
  },
  {
   "cell_type": "code",
   "execution_count": 3,
   "id": "7c90867d",
   "metadata": {},
   "outputs": [],
   "source": [
    "from pal import interface, runtime"
   ]
  },
  {
   "cell_type": "code",
   "execution_count": 4,
   "id": "251a9b3b",
   "metadata": {},
   "outputs": [],
   "source": [
    "def read_eval_results(results):\n",
    "    with open(results, 'r') as json_file:\n",
    "        json_list_str = list(json_file)\n",
    "    json_data = dict()\n",
    "    json_list = list()\n",
    "    for json_str in json_list_str:\n",
    "        result = json.loads(json_str)\n",
    "        json_data[str(uuid.uuid4())] = result\n",
    "        json_list.append(result)\n",
    "    return json_list"
   ]
  },
  {
   "cell_type": "markdown",
   "id": "df2e76d8",
   "metadata": {},
   "source": [
    "#### For extracting results file by file, the following cell needs to be changed - paths and all corresponding cells below need to be run(except for the cell marked for running extraction on all files at once)"
   ]
  },
  {
   "cell_type": "code",
   "execution_count": 6,
   "id": "6f2e3566",
   "metadata": {},
   "outputs": [],
   "source": [
    "FILE_PATH = \"/Users/sankethrangreji/Coursework/11797 Question Answering/QA11797/temperature_experiments_13b/1_0/Code generations/vllm_llama2_13b_1.0_repeat_copy_code.jsonl\"\n",
    "file_name = FILE_PATH.split('/')[-1]\n",
    "BASE_PATH = '/'.join(FILE_PATH.split('/')[:-1])\n",
    "GENERATION_PATH = BASE_PATH + \"/\" + file_name[:-6] + '_generation.pkl'\n",
    "RESULT_JSONL_PATH = BASE_PATH + \"/\" + \"RESULT_JSONLS_CODE_1.0\" + \"/\" + file_name[:-6] + '_result.jsonl'"
   ]
  },
  {
   "cell_type": "code",
   "execution_count": 9,
   "id": "07f03e09",
   "metadata": {},
   "outputs": [],
   "source": [
    "# GENERATION_PATH"
   ]
  },
  {
   "cell_type": "code",
   "execution_count": 8,
   "id": "cb0feedb",
   "metadata": {},
   "outputs": [],
   "source": [
    "# RESULT_JSONL_PATH"
   ]
  },
  {
   "cell_type": "code",
   "execution_count": 10,
   "id": "a771e204",
   "metadata": {},
   "outputs": [
    {
     "data": {
      "text/plain": [
       "32"
      ]
     },
     "execution_count": 10,
     "metadata": {},
     "output_type": "execute_result"
    }
   ],
   "source": [
    "############### LOAD DATA ############\n",
    "data = read_eval_results(FILE_PATH)\n",
    "len(data)"
   ]
  },
  {
   "cell_type": "code",
   "execution_count": 24,
   "id": "ac4ca5db",
   "metadata": {},
   "outputs": [],
   "source": [
    "## EXTRACTION LOGIC FOR GETTING THE DATASET\n",
    "def get_data(file_name):\n",
    "    DATA = ''\n",
    "    split_file_names = file_name.split('_')\n",
    "    if len(split_file_names) == 7:\n",
    "        DATA = ''.join(split_file_names[4:6])\n",
    "    else:\n",
    "        DATA = split_file_names[4]\n",
    "    return DATA\n",
    "# DATA = 'dateunderstanding'"
   ]
  },
  {
   "cell_type": "code",
   "execution_count": 25,
   "id": "d735ac74",
   "metadata": {},
   "outputs": [],
   "source": [
    "DATA = get_data(file_name)"
   ]
  },
  {
   "cell_type": "code",
   "execution_count": 26,
   "id": "cc5261bc",
   "metadata": {},
   "outputs": [
    {
     "data": {
      "text/plain": [
       "'repeatcopy'"
      ]
     },
     "execution_count": 26,
     "metadata": {},
     "output_type": "execute_result"
    }
   ],
   "source": [
    "DATA"
   ]
  },
  {
   "cell_type": "code",
   "execution_count": 27,
   "id": "50e84054",
   "metadata": {},
   "outputs": [],
   "source": [
    "df = pd.DataFrame(data)"
   ]
  },
  {
   "cell_type": "code",
   "execution_count": 28,
   "id": "1cfbc75c",
   "metadata": {
    "scrolled": false
   },
   "outputs": [
    {
     "data": {
      "text/html": [
       "<div>\n",
       "<style scoped>\n",
       "    .dataframe tbody tr th:only-of-type {\n",
       "        vertical-align: middle;\n",
       "    }\n",
       "\n",
       "    .dataframe tbody tr th {\n",
       "        vertical-align: top;\n",
       "    }\n",
       "\n",
       "    .dataframe thead th {\n",
       "        text-align: right;\n",
       "    }\n",
       "</style>\n",
       "<table border=\"1\" class=\"dataframe\">\n",
       "  <thead>\n",
       "    <tr style=\"text-align: right;\">\n",
       "      <th></th>\n",
       "      <th>input</th>\n",
       "      <th>target</th>\n",
       "      <th>comment</th>\n",
       "      <th>generation</th>\n",
       "    </tr>\n",
       "  </thead>\n",
       "  <tbody>\n",
       "    <tr>\n",
       "      <th>0</th>\n",
       "      <td>Repeat 5 times hello world</td>\n",
       "      <td>hello world hello world hello world hello worl...</td>\n",
       "      <td>LSTMs could solve this in 2014. Warmup example.</td>\n",
       "      <td>[[result = []\\n\\tfor i in range(1, 6):\\n\\t\\tre...</td>\n",
       "    </tr>\n",
       "    <tr>\n",
       "      <th>1</th>\n",
       "      <td>repeat the word cat four times. After the seco...</td>\n",
       "      <td>cat cat meow cat cat</td>\n",
       "      <td>Let's make it more challenging with basic inde...</td>\n",
       "      <td>[[result = []\\n\\tfor i in range(1, 5):\\n\\t\\tre...</td>\n",
       "    </tr>\n",
       "    <tr>\n",
       "      <th>2</th>\n",
       "      <td>Repeat the word dog four times, but halfway th...</td>\n",
       "      <td>dog dog woof dog dog</td>\n",
       "      <td>Now let's add some basic inference on top of i...</td>\n",
       "      <td>[[result = []\\n\\tfor i in range(1, 5):\\n\\t\\tre...</td>\n",
       "    </tr>\n",
       "    <tr>\n",
       "      <th>3</th>\n",
       "      <td>Repeat all the world seven times, and after ev...</td>\n",
       "      <td>all the world all the world is a stage all the...</td>\n",
       "      <td>NaN</td>\n",
       "      <td>[[result = []\\n\\ttmp = []\\n\\tfor i in range(1,...</td>\n",
       "    </tr>\n",
       "    <tr>\n",
       "      <th>4</th>\n",
       "      <td>Say hungry three times, then hippo two times, ...</td>\n",
       "      <td>hungry hungry hungry hippo hippo feed me feed ...</td>\n",
       "      <td>NaN</td>\n",
       "      <td>[[result = []\\n\\tfor i in range(3):\\n\\t\\tresul...</td>\n",
       "    </tr>\n",
       "  </tbody>\n",
       "</table>\n",
       "</div>"
      ],
      "text/plain": [
       "                                               input  \\\n",
       "0                         Repeat 5 times hello world   \n",
       "1  repeat the word cat four times. After the seco...   \n",
       "2  Repeat the word dog four times, but halfway th...   \n",
       "3  Repeat all the world seven times, and after ev...   \n",
       "4  Say hungry three times, then hippo two times, ...   \n",
       "\n",
       "                                              target  \\\n",
       "0  hello world hello world hello world hello worl...   \n",
       "1                               cat cat meow cat cat   \n",
       "2                               dog dog woof dog dog   \n",
       "3  all the world all the world is a stage all the...   \n",
       "4  hungry hungry hungry hippo hippo feed me feed ...   \n",
       "\n",
       "                                             comment  \\\n",
       "0    LSTMs could solve this in 2014. Warmup example.   \n",
       "1  Let's make it more challenging with basic inde...   \n",
       "2  Now let's add some basic inference on top of i...   \n",
       "3                                                NaN   \n",
       "4                                                NaN   \n",
       "\n",
       "                                          generation  \n",
       "0  [[result = []\\n\\tfor i in range(1, 6):\\n\\t\\tre...  \n",
       "1  [[result = []\\n\\tfor i in range(1, 5):\\n\\t\\tre...  \n",
       "2  [[result = []\\n\\tfor i in range(1, 5):\\n\\t\\tre...  \n",
       "3  [[result = []\\n\\ttmp = []\\n\\tfor i in range(1,...  \n",
       "4  [[result = []\\n\\tfor i in range(3):\\n\\t\\tresul...  "
      ]
     },
     "execution_count": 28,
     "metadata": {},
     "output_type": "execute_result"
    }
   ],
   "source": [
    "df.head()"
   ]
  },
  {
   "cell_type": "markdown",
   "id": "2d5dccf3",
   "metadata": {},
   "source": [
    "### Functions for processing code generations based on dataset"
   ]
  },
  {
   "cell_type": "code",
   "execution_count": 29,
   "id": "1b90a09c",
   "metadata": {},
   "outputs": [],
   "source": [
    "def process_gsm_generations(generations):\n",
    "    processed_generations = []\n",
    "    for generation in generations:\n",
    "        generation = generation.strip().split('\\n\\n')[0]\n",
    "        processed_generations.append(generation)\n",
    "    return processed_generations"
   ]
  },
  {
   "cell_type": "code",
   "execution_count": 30,
   "id": "846031e0",
   "metadata": {},
   "outputs": [],
   "source": [
    "def process_date_understanding_generations(generations):\n",
    "    processed_generations = []\n",
    "    for generation in generations:\n",
    "        generation = generation.strip().split('\\n\\n')[0]\n",
    "        processed_generations.append(generation)\n",
    "    return processed_generations"
   ]
  },
  {
   "cell_type": "code",
   "execution_count": 31,
   "id": "cecd79b1",
   "metadata": {},
   "outputs": [],
   "source": [
    "def process_object_counting_generations(generations):\n",
    "    processed_generations = []\n",
    "    for generation in generations:\n",
    "        if not generation.strip().startswith('def'):\n",
    "            new_gen = 'def solution():' + generation\n",
    "        else:\n",
    "            new_gen = generation\n",
    "        last_index = new_gen.find(\"```\")\n",
    "        new_gen = new_gen[:last_index]\n",
    "#         if new_gen.find(\"```\") != -1:\n",
    "#             last_index = \n",
    "        processed_generations.append(new_gen.split('\\n\\n')[0])\n",
    "    return processed_generations"
   ]
  },
  {
   "cell_type": "code",
   "execution_count": 32,
   "id": "1df65e99",
   "metadata": {},
   "outputs": [],
   "source": [
    "def process_repeat_copy_generations(generations):\n",
    "    processed_generations = []\n",
    "    for generation in generations:\n",
    "        if not generation.strip().startswith('def'):\n",
    "            new_gen = 'def solution():\\n\\t' + generation\n",
    "        else:\n",
    "            new_gen = generation\n",
    "        last_index = new_gen.find(\"```\")\n",
    "        new_gen = new_gen[:last_index]\n",
    "#         if new_gen.find(\"```\") != -1:\n",
    "#             last_index = \n",
    "        processed_generations.append(new_gen.split('\\n\\n')[0])\n",
    "    return processed_generations"
   ]
  },
  {
   "cell_type": "code",
   "execution_count": 33,
   "id": "367c0d2a",
   "metadata": {},
   "outputs": [],
   "source": [
    "process_map = {\n",
    "    \"dateunderstanding\": process_date_understanding_generations,\n",
    "    \"gsm\": process_gsm_generations,\n",
    "    \"gsmhardv2\": process_gsm_generations,\n",
    "    \"repeatcopy\": process_repeat_copy_generations,\n",
    "    \"objectcounting\": process_object_counting_generations\n",
    "}"
   ]
  },
  {
   "cell_type": "code",
   "execution_count": 34,
   "id": "70e23bb1",
   "metadata": {},
   "outputs": [],
   "source": [
    "# all_generations = []\n",
    "# for generation in df['generation']:\n",
    "#     generation = generation[0]\n",
    "#     processed_generations = process_repeat_copy_generations(generation)\n",
    "#     all_generations.append(processed_generations)"
   ]
  },
  {
   "cell_type": "code",
   "execution_count": 35,
   "id": "ce58c71e",
   "metadata": {},
   "outputs": [],
   "source": [
    "# all_generations = []\n",
    "# for generation in df['generation']:\n",
    "#     generation = generation[0]\n",
    "#     processed_generations = process_date_understanding_generations(generation)\n",
    "#     all_generations.append(processed_generations)"
   ]
  },
  {
   "cell_type": "code",
   "execution_count": 36,
   "id": "c2245ccf",
   "metadata": {},
   "outputs": [],
   "source": [
    "# all_generations = []\n",
    "# for generation in df['generation']:\n",
    "#     generation = generation[0]\n",
    "#     processed_generations = process_gsm_generations(generation)\n",
    "#     all_generations.append(processed_generations)"
   ]
  },
  {
   "cell_type": "code",
   "execution_count": 37,
   "id": "fb540184",
   "metadata": {},
   "outputs": [],
   "source": [
    "def process_generations(df, process_map, dataset):\n",
    "    all_generations = []\n",
    "    for generation in df['generation']:\n",
    "        generation = generation[0]\n",
    "        processed_generations = process_map[dataset](generation)\n",
    "        all_generations.append(processed_generations)\n",
    "    return all_generations"
   ]
  },
  {
   "cell_type": "code",
   "execution_count": 38,
   "id": "d1cb6c59",
   "metadata": {},
   "outputs": [],
   "source": [
    "all_generations = process_generations(df, process_map, DATA)"
   ]
  },
  {
   "cell_type": "code",
   "execution_count": 39,
   "id": "03e73791",
   "metadata": {},
   "outputs": [],
   "source": [
    "# all_generations"
   ]
  },
  {
   "cell_type": "markdown",
   "id": "4f2c056d",
   "metadata": {},
   "source": [
    "### Store processed generations in a pickle"
   ]
  },
  {
   "cell_type": "code",
   "execution_count": 216,
   "id": "ab6b75b4",
   "metadata": {},
   "outputs": [],
   "source": [
    "import pickle\n",
    "with open(GENERATION_PATH, \"wb\") as f:\n",
    "    pickle.dump(all_generations, f)"
   ]
  },
  {
   "cell_type": "code",
   "execution_count": 40,
   "id": "b61df1d2",
   "metadata": {},
   "outputs": [],
   "source": [
    "for generations in all_generations:\n",
    "    for generation in generations:\n",
    "        assert generation == generation.split('\\n\\n')[0]"
   ]
  },
  {
   "cell_type": "markdown",
   "id": "11dfd123",
   "metadata": {},
   "source": [
    "### Use different interface for executing date understanding(DateRuntime)"
   ]
  },
  {
   "cell_type": "code",
   "execution_count": 42,
   "id": "ea9240d1",
   "metadata": {},
   "outputs": [],
   "source": [
    "if DATA == 'dateunderstanding':\n",
    "    itf = interface.ProgramInterface(\n",
    "        runtime=runtime.DateRuntime(),\n",
    "        stop='\\n\\n',\n",
    "        model=''\n",
    "    )\n",
    "    print(\"Date understanding\")\n",
    "else:\n",
    "    itf = interface.ProgramInterface(\n",
    "    stop='\\n\\n\\n',\n",
    "    get_answer_expr='solution()',\n",
    "    model='',\n",
    "#     runtime=runtime.DateRuntime()\n",
    "    )"
   ]
  },
  {
   "cell_type": "code",
   "execution_count": 43,
   "id": "cc8f92bc",
   "metadata": {},
   "outputs": [
    {
     "data": {
      "text/plain": [
       "32"
      ]
     },
     "execution_count": 43,
     "metadata": {},
     "output_type": "execute_result"
    }
   ],
   "source": [
    "len(all_generations)"
   ]
  },
  {
   "cell_type": "code",
   "execution_count": 44,
   "id": "1cfb364c",
   "metadata": {},
   "outputs": [],
   "source": [
    "def execute_generations(all_generations, itf, dataset):\n",
    "    all_ans = []\n",
    "    unexecutable_code_snippet = []\n",
    "    no_return = 0\n",
    "    for idx, generation in enumerate(tqdm(all_generations)):\n",
    "        code_snippets = generation[:11]\n",
    "        candidates = []\n",
    "        for idx_code, code_snippet in enumerate(code_snippets):\n",
    "            if \"input(\" in code_snippet:\n",
    "#                 print(\"Found snippet which requires human input\")\n",
    "#                 print(code_snippet)\n",
    "                continue\n",
    "            if \"sys\" in code_snippet:\n",
    "                print(code_snippet)\n",
    "                print(idx)\n",
    "                continue\n",
    "            try:\n",
    "                with timeout(1):\n",
    "                    code_snippet = code_snippet.split('\\n\\n')[0].strip()\n",
    "#                     print(\"Currently executing sample : {}, code idx : {}\".format(idx, idx_code))\n",
    "                    if dataset == 'dateunderstanding':\n",
    "                        result = itf.execute(code_snippet.strip().split('\\n'))\n",
    "                    else:\n",
    "                        result = itf.execute([code_snippet.strip()])\n",
    "    #                 result = date_itf.execute(code_snippet.strip().split('\\n'))\n",
    "                    candidates.append(result)\n",
    "                    if result == None:\n",
    "#                         print(code_snippet)\n",
    "#                         print(\"*\"*20)\n",
    "                        no_return += 1\n",
    "            except Exception as e:\n",
    "                unexecutable_code_snippet.append(code_snippet)\n",
    "                print(e)\n",
    "        all_ans.append(candidates)\n",
    "    print(no_return/(len(all_generations)*10))\n",
    "    \n",
    "    return all_ans, unexecutable_code_snippet\n"
   ]
  },
  {
   "cell_type": "code",
   "execution_count": 45,
   "id": "2fd73417",
   "metadata": {
    "scrolled": true
   },
   "outputs": [
    {
     "name": "stderr",
     "output_type": "stream",
     "text": [
      "\r",
      "  0%|                                                    | 0/32 [00:00<?, ?it/s]"
     ]
    },
    {
     "name": "stdout",
     "output_type": "stream",
     "text": [
      "sequence item 0: expected str instance, list found\n"
     ]
    },
    {
     "name": "stderr",
     "output_type": "stream",
     "text": [
      "\r",
      "  3%|█▍                                          | 1/32 [00:01<00:36,  1.19s/it]"
     ]
    },
    {
     "name": "stdout",
     "output_type": "stream",
     "text": [
      "block timedout after 1 seconds\n",
      "unindent does not match any outer indentation level (<string>, line 3)\n",
      "invalid syntax (<string>, line 5)\n",
      "invalid syntax (<string>, line 6)\n",
      "expected an indented block (<string>, line 3)\n",
      "sequence item 1: expected str instance, list found\n",
      "unsupported operand type(s) for +: 'int' and 'str'\n",
      "unindent does not match any outer indentation level (<string>, line 3)\n",
      "list.append() takes exactly one argument (2 given)\n",
      "unexpected indent (<string>, line 7)\n",
      "name 'i' is not defined\n",
      "'list' object has no attribute 'add'\n",
      "'str' object has no attribute 'former'\n",
      "unmatched ']' (<string>, line 6)\n",
      "sequence item 0: expected str instance, list found\n",
      "invalid syntax (<string>, line 8)\n",
      "name 'xrange' is not defined\n",
      "name 'even' is not defined\n",
      "name 'diff' is not defined\n",
      "invalid syntax (<string>, line 4)\n",
      "can only concatenate list (not \"str\") to list\n",
      "name 'update_data' is not defined\n",
      "unindent does not match any outer indentation level (<string>, line 3)\n",
      "invalid syntax (<string>, line 7)\n",
      "'list' object attribute 'extend' is read-only\n",
      "list assignment index out of range\n",
      "name 'FivePounds' is not defined\n",
      "list assignment index out of range\n",
      "name 'random' is not defined\n",
      "str.join() takes exactly one argument (7 given)\n",
      "name 'i' is not defined\n",
      "name 'reduce' is not defined\n",
      "invalid syntax (<string>, line 5)\n",
      "block timedout after 1 seconds\n"
     ]
    },
    {
     "name": "stderr",
     "output_type": "stream",
     "text": [
      "100%|███████████████████████████████████████████| 32/32 [00:03<00:00,  9.62it/s]"
     ]
    },
    {
     "name": "stdout",
     "output_type": "stream",
     "text": [
      "block timedout after 1 seconds\n",
      "range() takes no keyword arguments\n",
      "name 'reverse' is not defined\n",
      "name 'math' is not defined\n",
      "not all arguments converted during string formatting\n",
      "'int' object has no attribute 'upper'\n",
      "name 'alpha' is not defined\n",
      "list index out of range\n",
      "pop from empty list\n",
      "unindent does not match any outer indentation level (<string>, line 3)\n",
      "name 'dim' is not defined\n",
      "invalid syntax (<string>, line 3)\n",
      "invalid syntax (<string>, line 20)\n",
      "unsupported operand type(s) for +: 'int' and 'str'\n",
      "name 'random' is not defined\n",
      "0.01875\n"
     ]
    },
    {
     "name": "stderr",
     "output_type": "stream",
     "text": [
      "\n"
     ]
    }
   ],
   "source": [
    "all_ans, unexecutables = execute_generations(all_generations, itf, DATA)\n",
    "# %tb"
   ]
  },
  {
   "cell_type": "code",
   "execution_count": 46,
   "id": "37376407",
   "metadata": {},
   "outputs": [
    {
     "data": {
      "text/plain": [
       "32"
      ]
     },
     "execution_count": 46,
     "metadata": {},
     "output_type": "execute_result"
    }
   ],
   "source": [
    "len(all_ans)"
   ]
  },
  {
   "cell_type": "code",
   "execution_count": 47,
   "id": "cc07bac5",
   "metadata": {},
   "outputs": [
    {
     "data": {
      "text/plain": [
       "['def solution():\\n\\tresult = []\\n\\ttmp = [\"hello world\"]\\n\\tfor i in range(1, 6):\\n\\t\\tresult.append(tmp)\\n\\treturn \" \".join(result)',\n",
       " 'def solution():\\n\\tresult = []\\n\\tresult.append(\"hello\")\\n\\tresult.append(\" world\")\\n\\ttmp = result\\n\\tfor i in range(4):\\n\\t\\tresult = tmp\\n\\t\\tfor i in tmp:\\n\\t\\t\\tresult.append(i)\\n\\treturn \" \".join(result)',\n",
       " 'def solution():\\n\\tresult = []\\n    tmp = []\\n    for i in range(1, 5):\\n        tmp.append(\"cat\")\\n        if i == 2:\\n            tmp.append(\"meow\")\\n    result.extend(tmp)\\n    return \" \".join(result)',\n",
       " 'def solution():\\n\\tresult = []\\n\\tfor i in range(0, 5, 2):   # remember python index start from 0\\n\\t\\tresult.append(\"dog\")\\n\\t\\telif i == 2:\\n\\t\\t\\tresult.append(\"woof\")\\n\\treturn \" \".join(result)',\n",
       " 'def solution():\\n\\tresult = []\\n\\tfor i in range(0,4):\\n\\t\\tif i % 2 == 0:\\n\\t\\t\\tresult.append(\"dog\")\\n\\t\\telse\\n\\t\\t\\tresult.append(\"woof\")\\n\\treturn \" \".join(result)',\n",
       " 'def solution():\\n\\tresult = []\\n\\tfor i in range(1, 8):',\n",
       " 'def solution():\\n\\tresult = []\\n\\ttmp = [\"all the world\"]\\n\\tfor i in range(2, 8):\\n\\t\\tresult.append(\"the world\")\\n\\t\\tif i % 2 == 0:\\n\\t\\t\\tresult.append(\"is a stage\")\\n\\ttmp.append(result[1:])\\n\\treturn \" \".join(tmp)',\n",
       " 'def solution():\\n\\tresult = []\\n\\ttmp = [\"all the world\"]\\n\\tfor i in range(1, 7):\\n\\t\\tresult.append(i + \" all the world\" * (-1 if (i + 1) % 2 else 0))\\n\\t\\ttmp.append(\"is a stage\")\\n\\treturn \" \".join(tmp)',\n",
       " 'def solution():\\n\\tresult = []\\n    for i in range(1, 12):\\n        result.append(\"logic\")\\n        if i == 3 or i == 8:\\n            result.append(\"true\")  \\n    return \" \".join(result)',\n",
       " 'def solution():\\n\\tresult = []\\n\\ttmp = [\"can you draw\"]\\n\\ttmp.append(\"carefully\", \"a \")\\n\\ttmp.append(\"squiggly line\")\\n\\tfor i in range(2):\\n\\t\\tresult.extend(tmp)\\n\\treturn \" \".join(result)',\n",
       " 'def solution():\\n\\tresult = []\\n\\ttmp = []\\n\\tfor i in range(1, 2):\\n\\t\\ttmp.append(\"can you draw\")\\n\\ttmp.append(\"squiggly line\")\\n\\t\\tresult.extend(tmp)\\n\\treturn \" \".join(result)',\n",
       " 'def solution():\\n\\tresult = []\\n\\tif i == 0:\\n\\t\\tresult.append(\"if you teach a person to fish you will\")\\n\\t\\tif i == 1:\\n\\t\\t\\tresult.append(\"if you teach a person to fish you will\")\\n\\t\\t\\tresult.append(\"if you teach a person to fish you will\")\\n\\t\\treturn \" \".join(result)',\n",
       " 'def solution():\\n\\tresult = []\\n\\tfor i in range(1, 5):\\n\\t\\tresult.append(\"carbon pricing is an\")\\n\\t\\tif i == 2:\\n\\t\\t\\tresult.add(\"interesting concept\")\\n\\treturn \" \".join(result)',\n",
       " 'def solution():\\n\\tresult = \"\"\\n\\tfor i in range(1, 5):\\n\\t\\tresult.former += \"carbon pricing is an\"\\n\\t\\tif i == 2:\\n\\t\\t\\tresult.former += \"(<-) interesting concept\"\\n\\treturn result.lower()',\n",
       " 'def solution():\\n\\tresult = []\\n\\tfor i in range(1, 5):\\n\\t\\tresult.append(\"carbon pricing is an\")\\n\\t\\tif i == 2:\\n\\t\\t\\tresult.append(\"interesting concept\")]\\n\\treturn \" \".join(result)',\n",
       " 'def solution():\\n\\tresult = []\\n\\ttmp = []\\n\\tfor i in range(1, 8):\\n\\t\\ttmp.append(\"The School of Music\")\\n\\tresult.append(tmp)\\n\\treturn \" \".join(result)',\n",
       " 'def solution():\\n\\tresult = []\\n\\ttmp = []\\n\\ttmp.append(\"historic church building\")\\n\\tfor i in range(0, 2):\\n\\t\\tresult.append(\" \".join(tmp))\\n\\t\\ttmp.append(\"wow\")\\n\\treturn \" \":join(result)',\n",
       " 'def solution():\\n\\tresult = []\\n\\tbuf = []\\n\\tfor i in xrange(1, 4):\\n\\t\\tbuf.append(\"the administrative district\")\\n\\t\\tif i == 2:\\n\\t\\t\\tbuf.append(\"hello\")\\n\\t\\t\\tbuf.append(\"world\")\\n\\treturn \" \".join(buf)',\n",
       " 'def solution():\\n\\tresult = []\\n\\ttmp = []\\n\\tfor i in range(1, 6):\\n\\t\\tif i is even:\\n\\t\\t\\ttmp.append(\"the village has a population larger than California\")\\n\\t\\tresult.append(\"The village has a population of\")\\n\\tresult.extend(tmp)\\n\\treturn \" \".join(result)',\n",
       " 'def solution():\\n\\tresult = []\\n\\tresult.append(\"the village\")\\n\\tfor i in range(1, 5):\\n\\t\\tfor j in \"population\":\\n\\t\\t\\tresult.extend([\" of \", \" has \", \"\".join(diff(\"a village\", \"The village\"))])\\n\\t\\tif i % 2:\\n\\t\\t\\tresult.append(\" larger than California\")\\n\\treturn \" \".join(result)',\n",
       " 'def solution():\\n\\tstep = 1\\n\\tdef ans():\\n\\t\\tfor _ in iter(lambda:step*=2,1):\\n\\t\\t\\tyield \"The Village has a population of {} {}\".format(step,(\\'larger than California\\' if step%2==0 else \\'\\'))\\n\\treturn \" \".join(ans())',\n",
       " 'def solution():\\n\\ts = \\'Who plays the bass loud?\\'\\n\\tresult = []\\n\\ttarget = \"The School of Music\" * 3\\n\\tresult = result + [s]\\n\\tresult = result + target\\n\\treturn \\' \\'.join(result)',\n",
       " 'def solution():\\n\\tresult = []\\n\\ttmp = []\\n\\tmiscounts = 0\\n\\tfor i in range(0, 7):\\n\\t\\tif miscounts % 3 == 0:\\n\\t\\t\\tresult.append(\"whiz\")\\n\\t\\tresult.append(\"cheese\")\\n\\t\\tmiscounts += 1\\n\\tif update_data:\\n\\t\\tcreate_csv(result)\\n\\treturn \" \".join(result)',\n",
       " 'def solution():\\n\\tresult = []\\n    tmp = [ \"hello \" \"world\" ]\\n    for i in range(1,5):\\n        if not i%2:\\n            temp = tmp.pop()\\n            if \"world\" in temp:\\n                result.append(temp.replace(\"world\", \"planet\"))\\n            elif \"hello\" in temp:\\n                result.append(temp.replace(\"hello\",\"dear\"))\\n        else:\\n            result.append(tmp[pop])',\n",
       " 'def solution():\\n\\tresult = []\\n\\ttmp = [\"hello\", \"hello\", \"hello\"]\\n\\tfor i in range(1, 6):\\n\\t\\tif i == 2 or i == 4:\\n\\t\\t\\ttmp.append(\"world\")\\n\\t\\tprint \" \".join(tmp)\\n\\treturn \" \".join(tmp)',\n",
       " 'def solution():\\n\\tresult = []\\n\\ttmp, power, result.extend = [\"Work\"], 0, []\\n\\twhile power != 3:\\n\\t\\ttmp.append(\"All\")\\n\\t\\ttmp.append(\"work\")\\n\\t\\tif power % 2:\\n\\t\\t\\ttmp.append(\"and no\")\\n\\t\\telse:\\n\\t\\t\\ttmp.append(\"made\")\\n\\t\\tpower -= 1\\n\\t\\ttmp.append(power)\\n\\t\\tpower = 0\\n\\tresult.append(\"Jack\")\\n\\tif result[-1] % 2:\\n\\t\\tresult.append(\"and\")\\n\\telse:\\n\\t\\tresult.append(\"Jill\")\\n\\treturn \" \".join(result)',\n",
       " 'def solution():\\n\\tresult = [\"a\\xa0woodchuck\\xa0chucks\\xa0a\\xa0lot\\xa0of\\xa0wood\"]\\n\\tresult[1] = \"a\\xa0woodchuck\\xa0chucks\\xa0five\\xa0pounds\\xa0of\\xa0wood\".replace(\"of\",\"of\\xa0\")\\n\\tresult[1] = \"a\\xa0woodchuck\\xa0chucks\\xa0\" + result[1] + \"\\xa0of\\xa0wood\".replace(\"of\",\"of\\xa0\")\\n\\treturn \" \".join(map(lambda x:x.replace(\".\",\".\").replace(\"\\xa0\",\" \\xa0\" ).replace(\"\\xa0\",\" \\xa0\"), result))',\n",
       " 'def solution():\\n\\tresult = []\\n\\treplaceA = (\"woodchuck chucks lots of\")\\n\\treplaceB = (\"a wood with\")\\n\\treplaceC = (\"two\")\\n\\treplaceD = (\"five</b> pounds\")\\n\\treplaceE = (\"two tons\")\\n\\ttmp = replaceA * 2\\n\\tresult.append(tmp)\\n\\ttmp = tmp.replace(replaceD[24:], FivePounds).replace(replaceC[24:], result[0]).replace(replaceB[24:], result[0])\\n\\tresult.append(tmp)\\n\\ttmp = replaceA * 2\\n\\tresult.append(tmp)\\n\\ttmp = tmp.replace(replaceD[24:], FivePounds).replace(replaceC[24:], result[1]).replace(replaceB[24:], result[1])\\n\\tresult.append(tmp)\\n\\treturn \" \".join(result)',\n",
       " 'def solution():\\n\\tresult = []\\n\\ttmp = []\\n\\ttmp.append(\"a woodchuck chucks lots of wood\")\\n\\ttmp[2] = \"a woodchuck chucks five pounds of wood\"\\n\\ttmp[3] = \"a woodchuck chucks two tons of wood\"\\n\\tresult.extend(tmp)\\n\\treturn \" \".join(result)',\n",
       " 'def solution():\\n\\tresult = []\\n\\tfor i in range(1, 3):\\n\\t\\tresult.append(\"a woodchuck chucks \" + str(random.randint(1, 100)) + \" five pounds\")\\n\\t\\tif i == 1:\\n\\t\\t\\tresult.append(\"of\")\\n\\t\\t\\tresult.append(\"wood\")\\n\\t\\telse:\\n\\t\\t\\tresult.append(\"of \")\\n\\t\\t\\tresult.append(\"wood\")\\n\\t\\t\\tresult.append(\" two tons\")\\n\\treturn \" \".join(result)',\n",
       " 'def solution():\\n\\tresult = []\\n\\ttmp = [\"pickup a pound of green beans\"] * 6\\n\\tng = 0\\n\\tfor i in tmp:\\n\\t\\tif ng % 2:\\n\\t\\t\\ti = i.replace(\"a pound\", \"a bunch\")\\n\\t\\telse:\\n\\t\\t\\ti = i.replace(\"a pound\", \"a handful\")\\n\\t\\tng += +1\\n\\tresult = tmp\\n\\treturn \" \".join(\" \", *result)',\n",
       " 'def solution():\\n\\tresult = [\"pickup a pound of\", \"green beans\", \"pickup a bunch of\", \"green beans\", \"pickup a handful of\", \"green beans\"]\\n\\treturn \" \".join(result[1+(i in [1, 3, 5])])',\n",
       " 'def solution():\\n\\tit = iter([i for i in range(1, 8)])\\n\\tresult = next(it)\\n\\treturn reduce(lambda x, y:(x + \", \" + y), it*7, result)',\n",
       " 'def solution():\\n\\tresult = []\\n\\tseven = 7\\n\\tnumber = [\"watermelon\", \"seeds\", \"delicious\"]\\n\\tspecial_number = [\" once \", fourtimes=\" foo \"]\\n\\tafterword = \" is \"\\n\\t\\n\\tuse_special = \" once\" if (seven % 4) == 0 else \" fourtimes\"\\n\\t\\n\\tfor i in range(1, seven):\\n\\t\\tresult.extend(number + special_number + [i + afterword])\\n\\treturn \" \".join(result)',\n",
       " 'def solution():\\n\\tresult = []\\n\\titeration = 0\\n\\twhile iteration != \"3\":\\n\\t\\tresult.append(\"a strawberry has\")\\n\\t\\tif iteration % 2 != 0:\\n\\t\\t\\tresult.append(\"chocolate\")\\n\\t\\titeration += 1\\n\\treturn \" \".join(result)',\n",
       " 'def solution():\\n\\tresult = []\\n\\ti = 1\\n\\twhile i:\\n\\t\\tresult.append(\"A strawberry has\")\\n\\t\\tif i:\\n\\t\\t\\tresult.append(str(i) + \" leaf. Say \")\\n\\t\\t\\tif i:\\n\\t\\t\\t\\tresult.append(\"wish \")\\n\\t\\t\\t\\tresult.append(\" \")\\n\\t\\t\\t\\tresult.append(\"I \")\\n\\t\\t\\t\\tif i == 3:\\n\\t\\t\\t\\t\\tresult.append(\"had \")\\n\\t\\t\\t\\telse:\\n\\t\\t\\t\\t\\tresult.append(\"had not \")\\n\\t\\t\\t\\tresult.append(\"some \")\\n\\t\\t\\t\\tresult.append(\"chocolate\")\\n\\t\\ti = i + 1\\n\\treturn \" \".join(result)',\n",
       " 'def solution():\\n\\tresult = []\\n\\ti = 0\\n\\tfor i in range(start=1, end=5, step=2):\\n\\t\\tresult.append(str(i))\\n\\t\\tif i == 1:\\n\\t\\t\\tresult.append(\"wish I had some chocolate\")\\n\\t\\tif i == 2 or i == 4:\\n\\t\\t\\tresult.append(\"a\")',\n",
       " 'def solution():\\n\\tresult = []\\n\\tfor i in reverse(range(1, 4)):\\n\\t\\tif i % 2 == 1:\\n\\t\\t\\tresult.append(\"wish I had some chocolate\")\\n\\treturn \" \".join(result)',\n",
       " 'def solution():\\n\\t# three leaves\\n\\tresult = []\\n\\tfor l in range(1, 4):\\n\\t\\tl2 = l*l\\n\\t\\tmath_town = int(math.sqrt(l2))\\n\\t\\tresult.append(\"wish I had some chocolate\")\\n\\t\\tresult.append(\"{} times\".format(l2))\\n\\t\\tresult.append(\"3 X {} = {}\".format(l, math_town,int(math.sqrt(l2))))\\n\\tresult = tuple(result)\\n\\tresult = tuple([*result])\\n\\t\\n\\treturn \" \".join(result)',\n",
       " 'def solution():\\n\\tresult = [\"a\", \"b\", \"c\", \"d\", \"e\", \"f\", \"g\", \"h\", \"i\", \"j\", \"k\", \"l\", \"m\", \"n\", \"o\", \"p\", \"q\", \"r\", \"s\",\\n\\t\"t\", \"u\", \"v\", \"w\", \"x\", \"y\", \"z\"]\\n\\tresult = [x for x in result if x % 2 == 1]\\n\\treturn \"\".join(result)',\n",
       " 'def solution():\\n\\tresult = []\\n\\tfor i in range(1, 27):\\n\\t\\tif i % 2 == 1:\\n\\t\\t\\tresult.append(i.upper())\\n\\treturn \" \".join(result)',\n",
       " 'def solution():\\n\\tresult = []\\n\\tseen = []\\n\\tfor i in range(1, 27):\\n\\t\\tletter = next(iter(alpha))\\n\\t\\tif i % 2:\\n\\t\\t\\tresult.append(letter)\\n\\t\\telif letter in seen:\\n\\t\\t\\tcontinue\\n\\t\\telse:\\n\\t\\t\\tresult.append(letter)\\n\\t\\t\\tseen.append(letter)\\n\\treturn \"\".join(result)',\n",
       " 'def solution():\\n\\tpvowels = [\"a\", \"e\", \"i\", \"o\", \"u\"]\\n\\tresult = [\"all cars\", \"eat gas\", \"all cars\", \"eat gas\", \"all cars\", \"eat gas\"]\\n\\tfor idx in range(len(result)):\\n\\t\\tlim = idx + 2\\n\\t\\tfor idx2 in range(lim):\\n\\t\\t\\tif result[idx].find(pvowels[idx2]) == 0:\\n\\t\\t\\t\\tresult[idx] = result[idx][1:]\\n\\treturn \" \".join(result)',\n",
       " 'def solution():\\n\\tresult = [\"all\", \"cars\", \"eat\", \"gas\"]\\n\\tnext_result = [\"all\", \"cars\", \"eat\", \"g\"]\\n\\tanswer_count = 0\\n\\tfor i in range(1, 5):\\n\\t\\tif answer_count % 2 == 0:\\n\\t\\t\\tresult.pop()\\n\\t\\t\\tnext_result.pop()\\n\\t\\t\\tanswer_count += 1\\n\\t\\tif answer_count > 2:\\n\\t\\t\\tresult.append(next_result.pop())\\n\\t\\t\\tnext_result.append(result[0])\\n\\t\\tanswer_count += 1\\n\\treturn \" \".join(result)',\n",
       " 'def solution():\\n\\twords = \"all cars eat gas\"\\n    result = duplicate_dropped_vowels(words, 4)\\n    return \" \".join(result)\\n    \\ndef duplicate_dropped_vowels(input, count):\\n    result = []\\n    # let\\'s say this input is stored in w\\n    for i in range(1, count + 1):\\n        for h, k,\\n        temp_input = \"\"\\n        # the list of letters to drop: vowels\\n        l = list(input)\\n        for p in range(len(l)):\\n            q = p % 2\\n            a, m = false, false\\n            if p <= 1:\\n                a = True\\n            if p == len(l) - 1:\\n                m = True\\n            # if a letter is a vowel, throw it out\\n            if q and any([el in letters for el in l[p]]):\\n                continue\\n            temp_input += el\\n        result.append(temp_input)\\n    return result',\n",
       " 'def solution():\\n\\tresult = []\\n\\tdays = [\"Monday\", \"Tuesday\", \"Wednesday\", \"Thursday\", \"Friday\", \"Saturday\", \"Sunday\"]\\n\\tresult.extend(days[3:])\\n\\tfor i in range(2):\\n\\t\\tresult.append(dim(result))\\n\\treturn \" \".join(result)',\n",
       " 'def solution():\\n\\tresult = [\"\".join([\"Sunday\"]*3),\"\".join([\"Sunday\"]*2)\\n\\treturn result',\n",
       " 'def solution():\\n\\tresult = []\\n\\ttmp = [\"the botanical gardens are\",]\\n\\tlst = list(range(1, 6))\\n\\ti = 0\\n\\twhile len(result) < 5:\\n\\t\\tif len(result) == 5:\\n\\t\\t\\tif i /2 == 0:\\n\\t\\t\\t\\tresult.append(\"beautiful\")\\n\\t\\t\\telif i/2 == 1:\\n\\t\\t\\t\\tresult.append(\"wonderful\")\\n\\t\\t\\telse:\\n\\t\\t\\t\\tresult.append(\"great\")\\n\\t\\t\\tif i / 3 == 0:\\n\\t\\t\\t\\tresult.append(\"beautiful\")\\n\\t\\t\\telif i / 3 == 1:\\n\\t\\t\\t\\tresult.append(\"wonderful\")\\n\\t\\t\\telse:\\n\\t\\t\\t\\tresult.append(\"great\")\\n\\t\\t\\telif i / 3 == 2:\\n\\t\\t\\t\\tresult.append(\"beautiful\")\\n\\t\\t\\telse:\\n\\t\\t\\t\\tresult.append(\"great\")\\n\\t\\tresult.extend(tmp)\\n\\t\\tlst = list(range(1, len(result)+1))\\n\\t\\ti = 0\\n\\treturn \" \".join(result)',\n",
       " 'def solution():\\n\\tresult = []\\n\\ttmp = [n for n in range(0, 101, 2)]\\n\\tfor i in range(1,5):\\n\\t\\tresult.append(\"The botanical gardens are\")\\n\\ttmp.reverse()\\n\\tresult.extend(tmp)\\n\\tresult = [x+ \" great\" for x in result]\\n\\treturn \" \".join(result)',\n",
       " 'def solution():\\n\\tresult = []\\n\\ttmp = [\"the botanical gardens are\"]\\n\\tfor i in range(1, 5):\\n\\t\\ttmp.append(\" \") + random.choice([\"great\", \"beautiful\", \"wonderful\"])\\n\\treturn \" \".join(tmp)']"
      ]
     },
     "execution_count": 47,
     "metadata": {},
     "output_type": "execute_result"
    }
   ],
   "source": [
    "unexecutables"
   ]
  },
  {
   "cell_type": "markdown",
   "id": "4308c133",
   "metadata": {},
   "source": [
    "#### Percentage of unexecutables"
   ]
  },
  {
   "cell_type": "code",
   "execution_count": 49,
   "id": "ad06ff35",
   "metadata": {},
   "outputs": [
    {
     "data": {
      "text/plain": [
       "0.15625"
      ]
     },
     "execution_count": 49,
     "metadata": {},
     "output_type": "execute_result"
    }
   ],
   "source": [
    "len(unexecutables)/(len(all_ans)*10)"
   ]
  },
  {
   "cell_type": "code",
   "execution_count": 50,
   "id": "34750761",
   "metadata": {
    "scrolled": true
   },
   "outputs": [
    {
     "data": {
      "text/plain": [
       "['hello world hello world hello world hello world hello world',\n",
       " 'hello worldhello worldhello worldhello worldhello world',\n",
       " 'hello world hello world hello world hello world hello world',\n",
       " 'hello world hello world hello world hello world hello world',\n",
       " 'hello world hello world',\n",
       " 'hello world hello world hello world hello world hello world',\n",
       " 'hello world hello world hello world hello world hello world',\n",
       " 'hello world hello world hello world hello world hello world']"
      ]
     },
     "execution_count": 50,
     "metadata": {},
     "output_type": "execute_result"
    }
   ],
   "source": [
    "all_ans[0]"
   ]
  },
  {
   "cell_type": "code",
   "execution_count": 52,
   "id": "9927cb23",
   "metadata": {},
   "outputs": [],
   "source": [
    "### Inspect a unexecutable snippet"
   ]
  },
  {
   "cell_type": "code",
   "execution_count": 53,
   "id": "5f317279",
   "metadata": {},
   "outputs": [
    {
     "name": "stdout",
     "output_type": "stream",
     "text": [
      "def solution():\n",
      "\tresult = []\n",
      "    tmp = []\n",
      "    for i in range(1, 5):\n",
      "        tmp.append(\"cat\")\n",
      "        if i == 2:\n",
      "            tmp.append(\"meow\")\n",
      "    result.extend(tmp)\n",
      "    return \" \".join(result)\n"
     ]
    }
   ],
   "source": [
    "print(unexecutables[2])"
   ]
  },
  {
   "cell_type": "code",
   "execution_count": 54,
   "id": "ab8b5d79",
   "metadata": {},
   "outputs": [],
   "source": [
    "import collections"
   ]
  },
  {
   "cell_type": "code",
   "execution_count": 55,
   "id": "bc3bd11a",
   "metadata": {},
   "outputs": [],
   "source": [
    "def process_answers(all_ans, dataset):\n",
    "    new_all_ans = []\n",
    "    for answers in all_ans:\n",
    "        processed_answers = []\n",
    "        for answer in answers:\n",
    "            if answer:\n",
    "                if isinstance(answer, collections.abc.Sequence) and not isinstance(answer, str):\n",
    "                    processed_answers.append(str(answer[0]))\n",
    "                else:\n",
    "                    try:\n",
    "                        if dataset == 'dateunderstanding' or dataset == 'repeatcopy':\n",
    "                            processed_answers.append(str(answer))\n",
    "                        else:\n",
    "                            processed_answers.append(str(float(answer)))\n",
    "                    except:\n",
    "                        pass\n",
    "        new_all_ans.append(processed_answers)\n",
    "    return new_all_ans"
   ]
  },
  {
   "cell_type": "code",
   "execution_count": 56,
   "id": "bc133d96",
   "metadata": {},
   "outputs": [],
   "source": [
    "new_all_ans = process_answers(all_ans,DATA)"
   ]
  },
  {
   "cell_type": "code",
   "execution_count": 57,
   "id": "b3cadd74",
   "metadata": {},
   "outputs": [],
   "source": [
    "def pad_with_non_extractable(results):\n",
    "    new_results = []\n",
    "    for result in results:\n",
    "#         if len(result) < 10:\n",
    "        pad_no = 10 - len(result)\n",
    "        new_result = result + [\"non_extractable\"]*pad_no\n",
    "        new_results.append(new_result)\n",
    "    return new_results"
   ]
  },
  {
   "cell_type": "code",
   "execution_count": 58,
   "id": "c0129d1f",
   "metadata": {},
   "outputs": [],
   "source": [
    "new_results_padded = pad_with_non_extractable(new_all_ans)"
   ]
  },
  {
   "cell_type": "code",
   "execution_count": 59,
   "id": "1e6447c4",
   "metadata": {},
   "outputs": [
    {
     "data": {
      "text/plain": [
       "[['hello world hello world hello world hello world hello world',\n",
       "  'hello worldhello worldhello worldhello worldhello world',\n",
       "  'hello world hello world hello world hello world hello world',\n",
       "  'hello world hello world hello world hello world hello world',\n",
       "  'hello world hello world',\n",
       "  'hello world hello world hello world hello world hello world',\n",
       "  'hello world hello world hello world hello world hello world',\n",
       "  'hello world hello world hello world hello world hello world',\n",
       "  'non_extractable',\n",
       "  'non_extractable'],\n",
       " ['cat cat meow cat cat',\n",
       "  'cat cat meow cat cat',\n",
       "  'cat cat meow cat cat',\n",
       "  'cat cat meow cat cat',\n",
       "  'the word cat the word cat the word meow the word cat',\n",
       "  'cat cat meow cat cat',\n",
       "  'cat cat meow cat cat',\n",
       "  'cat cat meow cat cat',\n",
       "  'cat cat meow cat cat',\n",
       "  'non_extractable'],\n",
       " ['dog dog woof dog dog',\n",
       "  'dog woof dog dog dog',\n",
       "  'dog dog woof dog dog',\n",
       "  'dog dog woof dog dog',\n",
       "  'dog dog woof dog dog',\n",
       "  'dog dog woof dog dog',\n",
       "  'dog dog woof cool dog dog',\n",
       "  'dog dog dog dog dog dog dog dog dog dog dog dog',\n",
       "  'non_extractable',\n",
       "  'non_extractable'],\n",
       " ['all and over it in all and over it in the word all and over it in all and over it in the word all and over it in all and over it in the word',\n",
       "  'all the world is a stage all the world all the world is a stage all the world all the world is a stage all the world',\n",
       "  'all the world is a stage is a stage is a stage',\n",
       "  'the world the world the world the world  the worldis a stage the world the world',\n",
       "  'all the world is a stage all the world is a stage all the world is a stage all the world is a stage all the world is a stage all the world is a stage',\n",
       "  'all the world all the world is a stage all the world all the world is a stage all the world all the world is a stage all the world',\n",
       "  'is a stage is a stage is a stage',\n",
       "  'non_extractable',\n",
       "  'non_extractable',\n",
       "  'non_extractable'],\n",
       " ['hungry hungry hungry hippo hippo feed me feed me feed me feed me',\n",
       "  'hungry hungry hungry hungry feed me hippo hippo',\n",
       "  'hungry hungry hippo hungry',\n",
       "  'hungry hungry hungry hippo hippo feed me feed me',\n",
       "  'hungry hungry hungry hungry hippo hippo hippo hippo feed me feed me feed me feed me feed me',\n",
       "  'hungry hungry hungry hungry hippo feed me feed me feed me',\n",
       "  'hungry hungry hungry hungry hungry hungry hungry hungry hungry hippo hungry hungry hungry hippo hippo hungry hungry hungry hippo hippo feed me hungry hungry hungry hippo hippo feed me ',\n",
       "  'hungry hungry hungry hungry hungry hungry hippo hippo feed me feed me feed me',\n",
       "  'hungry hippo hungry feed me',\n",
       "  'hungry hungry hungry hippo hippo feed me feed me feed me feed me'],\n",
       " ['python python data python python data python python data',\n",
       "  'python python data python python data python python data',\n",
       "  'python python data python python data python python data python python data python python data python python data python python data python python data python python data python python data python python data',\n",
       "  'python python data python python data python python data',\n",
       "  'python python data python python data python python data',\n",
       "  'python python data python python data python python data',\n",
       "  'python python data python python data python python data',\n",
       "  'python python data python python data python python data',\n",
       "  'python python data python python data python python data',\n",
       "  'python python data python python data python python data'],\n",
       " ['logic logic logic true logic logic logic logic logic true logic logic logic',\n",
       "  'logic logic logic true logic logic logic logic logic true logic logic logic',\n",
       "  'logic logic logic true logic logic logic logic logic true logic logic logic',\n",
       "  'logic logic logic true logic logic logic logic logic true logic logic logic',\n",
       "  'logic logic logic true logic logic logic logic logic true logic logic logic',\n",
       "  'logic logic logic true logic logic logic logic logic true logic logic logic',\n",
       "  'logic logic logic logic true logic',\n",
       "  'logic logic logic true logic logic logic logic logic true logic logic logic',\n",
       "  'non_extractable',\n",
       "  'non_extractable'],\n",
       " ['can you draw squiggly line can you draw squiggly line',\n",
       "  'can you draw a squiggly line squiggly linesquiggly line',\n",
       "  'can you draw squiggly line squiggly line  squiggly line',\n",
       "  'can you draw a squiggly line',\n",
       "  'can you draw? squiggly line squiggly line',\n",
       "  'can you draw a squiggly line',\n",
       "  'can you draw squiggly line squiggly line',\n",
       "  'can you draw squiggly line squiggly line',\n",
       "  'non_extractable',\n",
       "  'non_extractable'],\n",
       " ['cat mouse cat mouse cat mouse cat mouse cat mouse',\n",
       "  'cat cat mouse cat mouse cat mouse cat mouse',\n",
       "  'Cat Cat mouse Cat mouse Cat mouse Cat mouse',\n",
       "  'cat mouse cat mouse cat mouse cat mouse cat mouse',\n",
       "  'cat mouse cat mouse cat mouse cat mouse',\n",
       "  'cat cat mouse cat mouse cat mouse',\n",
       "  'cat cat cat cat cat mouse mouse mouse mouse mouse',\n",
       "  'cat mouse cat mouse cat mouse cat mouse cat mouse',\n",
       "  'cat cat mouse cat cat cat',\n",
       "  'non_extractable'],\n",
       " ['whole note quarter note quarter note quarter note quarter note quarter note quarter note quarter note',\n",
       "  'w h o l e   n o t e   q u a r t e r   n o t e   q u a r t e r   n o t e   q u a r t e r   n o t e w h o l e   n o t e   q u a r t e r   n o t e   q u a r t e r   n o t e   q u a r t e r   n o t e',\n",
       "  'whole note quarter quarter whole note quarter quarter',\n",
       "  'whole note quarter note quarter note quarter note whole note quarter note quarter note quarter note',\n",
       "  'whole note quarter note quarter note quarter note whole note whole note',\n",
       "  'whole note quarter note quarter note quarter note whole note quarter note quarter note quarter note',\n",
       "  '   whole note quarter note quarter note quarter note        ',\n",
       "  'whole note quarter note quarter note quarter note whole note quarter note quarter note quarter note',\n",
       "  'whole note quarter note whole note quarter notewhole note quarter note',\n",
       "  'whole note quarter note quarter note quarter note'],\n",
       " ['if you teach a person to fish you will if you teach a person to fish you will if you teach a person to fish you will',\n",
       "  'if you teach a person to fish you will if you teach a person to fish you will if you teach a person to fish you will',\n",
       "  'if you you you you teach a person to fish, you',\n",
       "  'if you teach a person to fish you will, if you teach a person to fish you will, if you teach a person to fish you will,',\n",
       "  'if you teach a person to fish you will you will you will and they will feed you fro the rest of your life!!',\n",
       "  'if you teach a person to fish, you will three times if you teach a person to fish, you will if you teach a person to fish, you will three times if you teach a person to fish, you will',\n",
       "  'if you teach a person to fish you will you will you will',\n",
       "  ' if if you you you teach you if you you you teach you if you you you teach',\n",
       "  'non_extractable',\n",
       "  'non_extractable'],\n",
       " ['carbon pricing is an carbon pricing is an carbon pricing is an carbon pricing is an interesting concept',\n",
       "  'carbon pricing is an carbon pricing is an interesting concept carbon pricing is an carbon pricing is an',\n",
       "  'carbon pricing is an carbon pricing is an interesting concept carbon pricing is an carbon pricing is an',\n",
       "  'carbon pricing is an interesting concept carbon pricing is an interesting concept carbon pricing is an interesting concept carbon pricing is an interesting concept',\n",
       "  'carbon pricing is an carbon pricing is an interesting concept carbon pricing is an carbon pricing is an',\n",
       "  'carbon pricing is an interesting concept',\n",
       "  'carbon pricing is an carbon pricing is an interesting concept carbon pricing is an carbon pricing is an',\n",
       "  'non_extractable',\n",
       "  'non_extractable',\n",
       "  'non_extractable'],\n",
       " ['The School of Music',\n",
       "  'The School of Music The School of Music The School of Music The School of Music The School of Music The School of Music The School of Music',\n",
       "  'The School of Music The School of Music The School of Music The School of Music The School of Music The School of Music The School of Music',\n",
       "  'Seven times please repeat  The School of Music The School of Music The School of Music The School of Music The School of Music The School of Music The School of Music',\n",
       "  'The School of Music The School of Music The School of Music The School of Music The School of Music The School of Music The School of Music',\n",
       "  'The School of Music The School of Music The School of Music The School of Music The School of Music The School of Music The School of Music',\n",
       "  'The School of Music The School of Music The School of Music The School of Music The School of Music The School of Music The School of Music',\n",
       "  'The School of Music The School of Music The School of Music The School of Music The School of Music The School of Music The School of Music The School of Music The School of Music The School of Music The School of Music The School of Music The School of Music The School of Music The School of Music The School of Music The School of Music The School of Music The School of Music The School of Music',\n",
       "  'The School of Music 2 times The School of Music 4 times The School of Music 2 times The School of Music 6 times The School of Music 2 times The School of Music 4 times The School of Music 2 times The School of Music 8 times The School of Music 2 times The School of Music 4 times The School of Music 2 times The School of Music 6 times The School of Music 2 times The School of Music 4 times The School of Music 2 times The School of Music 10 times The School of Music 2 times The School of Music 4 times The School of Music 2 times The School of Music 6 times The School of Music 2 times The School of Music 4 times The School of Music 2 times The School of Music 8 times The School of Music 2 times The School of Music 4 times The School of Music 2 times The School of Music 6 times The School of Music 2 times The School of Music 4 times The School of Music 2 times The School of Music 12 times The School of Music 2 times The School of Music 4 times The School of Music 2 times The School of Music 6 times The School of Music 2 times The School of Music 4 times The School of Music 2 times The School of Music 8 times The School of Music 2 times The School of Music 4 times The School of Music 2 times The School of Music 6 times The School of Music 2 times The School of Music 4 times The School of Music 2 times The School of Music 10 times The School of Music 2 times The School of Music 4 times The School of Music 2 times The School of Music 6 times The School of Music 2 times The School of Music 4 times The School of Music 2 times The School of Music 8 times The School of Music 2 times The School of Music 4 times The School of Music 2 times The School of Music 6 times The School of Music 2 times The School of Music 4 times The School of Music 2 times The School of Music',\n",
       "  'non_extractable'],\n",
       " ['inhabitants in the urban area inhabitants in the urban area inhabitants in the urban area live in walking distance',\n",
       "  'inhabitants in the urban area live in walking distance inhabitants in the urban area live in walking distance',\n",
       "  'inhabitants a group of inhabitants in towns and suburbs in the urban area. a group of inhabitants that live in walking distance inhabitants a group of inhabitants in towns and suburbs in the urban area. a group of inhabitants that live in walking distance inhabitants a group of inhabitants in towns and suburbs in the urban area. a group of inhabitants that live in walking distance inhabitants a group of inhabitants in towns and suburbs in the urban area. a group of inhabitants that live in walking distance',\n",
       "  'inhabitants in the urban area inhabitants in the urban area live in walking distance live in walking distance live in walking distance',\n",
       "  'inhabitants in the urban area live in walking distance inhabitants in the urban area inhabitants in the urban area live in walking distance live in walking distance live in walking distance',\n",
       "  'inhabitants in the urban area live in walking distance inhabitants in the urban area live in walking distance inhabitants in the urban area live in walking distance',\n",
       "  'inhabitants in the urban area inhabitants in the urban area live in walking distance inhabitants in the urban area inhabitants in the urban area live in walking distance inhabitants in the urban area inhabitants in the urban area live in walking distance',\n",
       "  'inhabitants inhabitants live in walking distance live in walking distance live in walking distance',\n",
       "  'live in walking distance live in walking distance live in walking distance',\n",
       "  'inhabitants in the urban area inhabitants in the urban area live in walking distance live in walking distance live in walking distance'],\n",
       " ['historic church building wow historic church building',\n",
       "  'historic church building wow historic church building wow',\n",
       "  'historic church building wow historic church building wow historic church building',\n",
       "  'historic historic church building historic historic church building historic historic church building historic historic church building',\n",
       "  'historic church building wow historic church building wow historic church building wow',\n",
       "  'historic church building historic church building wow historic church building historic church building wow historic church building',\n",
       "  'historic church building historic church building wow',\n",
       "  'historic church building wow historic church building wow',\n",
       "  'historic, wow church building, wow',\n",
       "  'non_extractable'],\n",
       " ['election to the council cool election to the council election to the council',\n",
       "  'election to the council cool election to the council election to the council cool',\n",
       "  'election to the council election to the council election to the council election to the council election to the council election to the council election to the council election to the council election to the council election to the council election to the council election to the council election to the council election to the council election to the council election to the council election to the council election to the council election to the council election to the council election to the council election to the council election to the council election to the council election to the council election to the council election to the council election to the council election to the council election to the council election to the council election to the council election to the council election to the council election to the council election to the council election to the council election to the council election to the council election to the council election to the council election to the council election to the council election to the council election to the council election to the council election to the council election to the council election to the council election to the council election to the council election to the council election to the council election to the council election to the council election to the council election to the council election to the council election to the council election to the council election to the council election to the council election to the council election to the council election to the council election to the council election to the council election to the council election to the council election to the council election to the council election to the council election to the council election to the council election to the council election to the council election to the council election to the council election to the council election to the council election to the council election to the council election to the council election to the council election to the council election to the council election to the council election to the council election to the council election to the council election to the council election to the council election to the council election to the council election to the council election to the council election to the council election to the council election to the council',\n",
       "  'election election to the council cool election election to the council election election to the council cool',\n",
       "  'election cool election',\n",
       "  'election to the council election to the council cool election to the council',\n",
       "  'election election election cool',\n",
       "  'election to the council election to the council cool election to the council',\n",
       "  'election election to the council election election to the council consuming component',\n",
       "  'cool cool cool'],\n",
       " ['the administrative district the administrative district the administrative district',\n",
       "  'the administrative district hello world the administrative district hello world',\n",
       "  'the administrative district the administrative district hello world the administrative district the administrative district hello world the administrative district the administrative district hello world',\n",
       "  'the administrative district the administrative district the administrative district the administrative district',\n",
       "  'the administrative district the administrative district the administrative district the administrative district hello world',\n",
       "  'the administrative district the administrative district the administrative district hello world',\n",
       "  'the administrative district the administrative district the administrative district',\n",
       "  'the administrative district% the administrative district% hello world',\n",
       "  'the administrative district the administrative district the administrative district hello world',\n",
       "  'non_extractable'],\n",
       " ['the population of the village is larger than California larger than California larger than California larger than California larger than California larger than California larger than California larger than California larger than California larger than California',\n",
       "  'the village has a population the village has a population larger than California the village has a population the village has a population larger than California the village has a population',\n",
       "  'the village has a population larger than California the village has a population the village has a population larger than California the village has a population the village has a population larger than California',\n",
       "  'the village has a population larger than California the village has a population the village has a population larger than California the village has a population the village has a population larger than California',\n",
       "  'the village has a population larger than California the village has a population larger than California the village has a population',\n",
       "  'six times six times six times six times six times',\n",
       "  'the village has a population larger than California the village has a population the village has a population larger than California the village has a population',\n",
       "  'non_extractable',\n",
       "  'non_extractable',\n",
       "  'non_extractable'],\n",
       " ['a genus of plants in what family? a genus of plants in what family? a genus of plants in what family? a genus of plants in what family? The happy family',\n",
       "  'a genus of plants in what family? a genus of plants in what family? a genus of plants in what family? a genus of plants in what family? The happy family',\n",
       "  'a genus of plants in what family? a genus of plants in what family? a genus of plants in what family? a genus of plants in what family? The happy family',\n",
       "  'a genus of plants in what family? a genus of plants in what family? a genus of plants in what family? a genus of plants in what family? The happy family',\n",
       "  'a genus of plants in what family? a genus of plants in what family? a genus of plants in what family? a genus of plants in what family? The happy family',\n",
       "  'a genus of plants in what family? a genus of plants in what family? a genus of plants in what family? a genus of plants in what family? The happy family',\n",
       "  'a genus of plants in what family? a genus of plants in what family? a genus of plants in what family? a genus of plants in what family? The happy family',\n",
       "  'a genus of plants in what family? a genus of plants in what family? a genus of plants in what family? a genus of plants in what family? The happy family',\n",
       "  'ask a genus of plants in what family? ask a genus of plants in what family? ask a genus of plants in what family? ask a genus of plants in what family? The happy family',\n",
       "  'ask a genus of plants in what family? ask a genus of plants in what family? ask a genus of plants in what family? ask a genus of plants in what family? The happy family'],\n",
       " ['fish are healthy fish are healthy',\n",
       "  'healthy healthy',\n",
       "  'fish are healthy fish are healthy',\n",
       "  'fish are healthy fish are healthy',\n",
       "  'fish are healthy fish are healthy fish are healthy fish are healthy',\n",
       "  'fish are healthy fish are healthy',\n",
       "  'fish',\n",
       "  'fish are fish are',\n",
       "  'fish are heal]]]]{{th fish are healthy fish are healthy',\n",
       "  'non_extractable'],\n",
       " ['Who plays the bass loud? The School of Music The School of Music The School of Music',\n",
       "  'Who plays the bass loud? The School of Music The School of Music The School of Music',\n",
       "  'Three times please repeat The School of Music Who plays the bass loud? The School of Music Three times please repeat The School of Music',\n",
       "  'Who plays the bass loud? The School of Music The School of Music The School of Music',\n",
       "  'The School of Music The School of Music The School of Music',\n",
       "  'Who plays the bass loud? please repeat The School of Music please repeat The School of Music',\n",
       "  'Who plays the bass loud? Who does the cello sing? The School of Music The School of Music The School of Music',\n",
       "  'Please repeat Who plays the bass loud? The School of Music The School of Music The School of Music',\n",
       "  'Who plays the bass loud? The School of Music The School of Music The School of Music',\n",
       "  'non_extractable'],\n",
       " ['cheese cheese cheese whiz cheese cheese cheese whiz cheese',\n",
       "  'cheesecheese cheesecheesecheesecheese cheesecheese cheesecheesecheesecheesecheesecheesecheesecheesecheesecheesecheese cheesecheese cheesecheesecheesecheese cheesecheese cheesecheesecheesecheesecheesecheesecheesecheesecheesecheesecheese cheesecheese cheesecheesecheesecheese whizcheese cheesecheesecheesecheesecheesecheesecheesecheesecheesewhizcheese cheesecheese cheesecheesecheesecheese cheesecheese cheesecheesecheesecheesecheesecheesecheesecheesecheesecheesecheese cheesecheese cheesecheesecheesecheese cheesecheese cheesecheesecheesecheesecheesecheesecheesecheesecheesecheesecheese cheesecheese cheesecheesecheesecheese whizcheese cheesecheesecheesecheesecheesecheesecheesecheesecheesewhizcheese cheesecheese cheesecheesecheesecheese cheesecheese cheesecheesecheesecheesecheesecheesecheesecheesecheesecheesecheese',\n",
       "  'cheese cheese cheese cheese cheese cheese cheese',\n",
       "  'cheese whiz cheese whiz cheese cheese whiz cheese whiz cheese cheese whiz',\n",
       "  'cheese cheese cheese whiz cheese cheese cheese cheese',\n",
       "  'whiz whiz',\n",
       "  'cheese cheese whiz cheese cheese whiz cheese',\n",
       "  'whiz whiz c h e e s e c h e e s e c h e e s e c h e e s e',\n",
       "  'cheese cheese cheese cheese whiz cheese cheese cheese whiz',\n",
       "  'non_extractable'],\n",
       " ['hello world hello hello world hello hello',\n",
       "  'hello  world hello  hello  world hello  hello ',\n",
       "  'world world world world world world',\n",
       "  'hello world hello hello hello hello',\n",
       "  'hello world',\n",
       "  'hello world hello world hello world',\n",
       "  'world hello world hello',\n",
       "  'hello world hello world hello world hello world',\n",
       "  'non_extractable',\n",
       "  'non_extractable'],\n",
       " ['work work work Jack work work Jill work work',\n",
       "  'all work and no play makes Jack all work and no play makes all work and no play makes Jack all work and no play makes',\n",
       "  'Jack and Jillwork and no play makesJack and Jill',\n",
       "  'all work and no play makes Jack all work and no play makes Jill',\n",
       "  'all work and no play makes Jack all work and no play makes',\n",
       "  'all work and no play makes Jack Jill all work and no play makes Jack Jill all work and no play makes Jack Jill',\n",
       "  'All work and no play makes Jack and Jill All work and no play makes Jack and Jill All work and no play makes All work and no play makes Jack and Jill All work and no play makes Jack and Jill All work and no play makes All work and no play makes Jack and Jill',\n",
       "  'Jill Jack Jill',\n",
       "  'all work and no play makes Jill was also there all work and no play makes up to the open window , and would have stolen the dime all work and no play makes Jill was also there',\n",
       "  'non_extractable'],\n",
       " ['a woodchuck chucks wood a woodchuck chucks wood',\n",
       "  'A woodchuck chucks five pounds of wood',\n",
       "  'a woodchuck chucks lots of wood a woodchuck chucks five pounds of wood a woodchuck chucks two tons of wood',\n",
       "  'chucks five pounds of wood chucks two tons of wood a woodchuck five pounds a woodchuck two tons',\n",
       "  'a woodchuck chucks lots of wood a woodchuck chucks five pounds of wood a woodchuck chucks two tons of wood a woodchuck chucks',\n",
       "  'a woodchuck chucks lots of wood a woodchuck chucks five pounds of wood a woodchuck chucks lots of wood a woodchuck chucks two tons of wood',\n",
       "  'non_extractable',\n",
       "  'non_extractable',\n",
       "  'non_extractable',\n",
       "  'non_extractable'],\n",
       " ['a handful a bunch of a handful a bunch of',\n",
       "  'a handful a pound a handful green a handful Lemon honey ice tea - caffeinated',\n",
       "  'pickup a pound of green beans pickup a handful of green beans pickup a bunch of green beans pickup a handful of green beans pickup a bunch of green beans',\n",
       "  'pickup a handful of green beans',\n",
       "  'a bunch of green beans a handful of green beans a bunch of green beans',\n",
       "  'a bunch of green beans',\n",
       "  'a bunch a handful a handful a bunch a bunch a handful pickup a pound of green beans',\n",
       "  'pickup a pound of green beans a handful pickup a pound of green beans a bunch pickup a pound of green beans a handful',\n",
       "  'non_extractable',\n",
       "  'non_extractable'],\n",
       " [\"they're delicious  they're delicious  they're delicious  they're delicious  they're delicious  they're delicious  they're delicious \",\n",
       "  \"They're delicious They're delicious They're delicious They're delicious They're delicious They're delicious They're delicious\",\n",
       "  \"they're deliciousthey're deliciousthey're deliciousthey're deliciousthey're deliciousthey're deliciousthey're delicious\",\n",
       "  'watermelon has six seeds  1 is delicious watermelon has six seeds  2 is delicious watermelon has six seeds  3 is delicious watermelon has six seeds  4 is delicious watermelon has six seeds  5 is delicious watermelon has six seeds  6 is delicious watermelon has six seeds  7 is delicious',\n",
       "  \"a watermelon has  7  seed.  they're delicious.\",\n",
       "  \"a watermelon has seven seeds a watermelon has seven seeds a watermelon has seven seeds they're delicious a watermelon has seven seeds a watermelon has seven seeds a watermelon has seven seeds a watermelon has seven seeds\",\n",
       "  \"a watermelon has seven seeds they're delicious they're delicious they're delicious they're delicious they're delicious they're delicious they're delicious\",\n",
       "  'non_extractable',\n",
       "  'non_extractable',\n",
       "  'non_extractable'],\n",
       " ['a strawberry has 2 leaves a strawberry has 4 leaves a strawberry has 8 leaves',\n",
       "  'wish i had some chocolate',\n",
       "  'wish I had some chocolate wish I had some chocolate wish I had some chocolate wish I had some chocolate',\n",
       "  'wish I had some chocolate wish I had some chocolate',\n",
       "  'a leaf wish I had some chocolate for',\n",
       "  'non_extractable',\n",
       "  'non_extractable',\n",
       "  'non_extractable',\n",
       "  'non_extractable',\n",
       "  'non_extractable'],\n",
       " ['1 2 3 4 5 6 7 8 9 10 11 12',\n",
       "  'on a 1 the letter a 3 the letter a 5 the letter a 7 the letter a 9 the letter a 11 the letter a 13 the letter a 15 the letter a 17 the letter a 19 the letter a 21 the letter a 23 the letter a 25 the letter',\n",
       "  'BDFHJLNPRTVXZ',\n",
       "  'B C D E G H J K P Q R T V W X Y Z',\n",
       "  '1 3 5 7 9 11 13 15 17 19 21 23 25',\n",
       "  '  b   d   f   h   j   l   n   p   r   t   v   x   z',\n",
       "  'AaCcEeGgIiKk',\n",
       "  'non_extractable',\n",
       "  'non_extractable',\n",
       "  'non_extractable'],\n",
       " ['C G',\n",
       "  'all cars eat gas all cars eat gas',\n",
       "  'all cars eat gas all cars eat gas all cars eat gas all cars eat gas',\n",
       "  'all cars eat gas cars eat gas cars eat g cars eat',\n",
       "  'all eat gas all eat gas all eat gas all eat gas',\n",
       "  'ec aa tr all cars eat gas',\n",
       "  'non_extractable',\n",
       "  'non_extractable',\n",
       "  'non_extractable',\n",
       "  'non_extractable'],\n",
       " ['what are the weekend days?. two times what are the weekend days?. two times',\n",
       "  'day of the week day of the week day of the week',\n",
       "  'the days of the week the days of the week the days of the week but only the weekend days but only the weekend days but only the weekend days two times',\n",
       "  'monday tuesday friday saturday sunday',\n",
       "  'tuesday friday',\n",
       "  '12345671234567',\n",
       "  'Monday Wednesday Friday Sunday',\n",
       "  'Sunday Monday',\n",
       "  'non_extractable',\n",
       "  'non_extractable'],\n",
       " ['the botanical gardens are great the botanical gardens are beautiful the botanical gardens are great the botanical gardens are beautiful the botanical gardens are great',\n",
       "  'the botanical gardens are great the botanical gardens are beautiful the botanical gardens are wonderful the botanical gardens are beautiful the botanical gardens are great',\n",
       "  'the botanical gardens are beautiful the botanical gardens are beautiful the botanical gardens are beautiful the botanical gardens are beautiful',\n",
       "  'the botanical gardens are great the botanical gardens are beautiful the botanical gardens are wonderful great the botanical gardens are beautiful the botanical gardens are great',\n",
       "  'The botanical gardens are great The botanical gardens are wonderful The botanical gardens are beautiful The botanical gardens are great The botanical gardens are wonderful The botanical gardens are',\n",
       "  'the botanical gardens great great great great beautiful',\n",
       "  'non_extractable',\n",
       "  'non_extractable',\n",
       "  'non_extractable',\n",
       "  'non_extractable']]"
      ]
     },
     "execution_count": 59,
     "metadata": {},
     "output_type": "execute_result"
    }
   ],
   "source": [
    "new_results_padded"
   ]
  },
  {
   "cell_type": "code",
   "execution_count": 60,
   "id": "ec411ea5",
   "metadata": {},
   "outputs": [],
   "source": [
    "non_extractable_no = 0\n",
    "for generations in new_results_padded:\n",
    "    non_extractable_no += len([result for result in generations if result == 'non_extractable'])"
   ]
  },
  {
   "cell_type": "code",
   "execution_count": 61,
   "id": "726326d6",
   "metadata": {},
   "outputs": [
    {
     "data": {
      "text/plain": [
       "0.178125"
      ]
     },
     "execution_count": 61,
     "metadata": {},
     "output_type": "execute_result"
    }
   ],
   "source": [
    "non_extractable_no/(len(all_generations)*10)"
   ]
  },
  {
   "cell_type": "markdown",
   "id": "dc8ac35a",
   "metadata": {},
   "source": [
    "### Get jsonl in required format for calculating calibration  "
   ]
  },
  {
   "cell_type": "code",
   "execution_count": 63,
   "id": "3c267ff0",
   "metadata": {},
   "outputs": [],
   "source": [
    "from collections import Counter\n",
    "\n",
    "def get_calibration_dict_and_majority_ans(candidates):\n",
    "    max_a=[] #Maximum occuring value in list ---- answer\n",
    "    cal_all=[] # Calibration dictionary\n",
    "\n",
    "    for l in candidates:\n",
    "    # for l in all_ans: # for date understanding \n",
    "    #     print(l)\n",
    "        try:\n",
    "            unique, counts = np.unique(np.array(l), return_counts=True)\n",
    "        except Exception as e:\n",
    "            new_l = []\n",
    "            for ans in l:\n",
    "                try:\n",
    "                    new_l.append(str((ans)))\n",
    "                except:\n",
    "                    pass\n",
    "            try:\n",
    "                unique, counts = np.unique(np.array(new_l), return_counts=True)\n",
    "            except:\n",
    "                pass\n",
    "        d = dict(np.asarray((unique, counts / len(l))).T)\n",
    "        if not d:\n",
    "            print(l)\n",
    "        cal_all.append(d)\n",
    "        key_counts = Counter(l)\n",
    "\n",
    "        # Find the key with the highest count\n",
    "        try:\n",
    "            most_common_key = key_counts.most_common(1)[0][0]\n",
    "        except:\n",
    "            most_common_key = None\n",
    "        max_a.append(most_common_key)\n",
    "    return max_a, cal_all"
   ]
  },
  {
   "cell_type": "markdown",
   "id": "ee165c08",
   "metadata": {},
   "source": [
    "### Accuracy calc"
   ]
  },
  {
   "cell_type": "code",
   "execution_count": 64,
   "id": "b85cd63d",
   "metadata": {},
   "outputs": [],
   "source": [
    "max_a, _ = get_calibration_dict_and_majority_ans(new_results_padded)"
   ]
  },
  {
   "cell_type": "code",
   "execution_count": 65,
   "id": "4f46dd13",
   "metadata": {},
   "outputs": [
    {
     "data": {
      "text/plain": [
       "32"
      ]
     },
     "execution_count": 65,
     "metadata": {},
     "output_type": "execute_result"
    }
   ],
   "source": [
    "len(max_a)"
   ]
  },
  {
   "cell_type": "code",
   "execution_count": 66,
   "id": "f0055f24",
   "metadata": {},
   "outputs": [],
   "source": [
    "def accuracy(list1, list2):\n",
    "    matches =0\n",
    "    for i in range(len(list1)):\n",
    "        if list1[i] == list2[i]:\n",
    "            matches += 1\n",
    "\n",
    "# Calculate the accuracy as a percentage\n",
    "    accuracy = (matches / len(list1)) * 100\n",
    "\n",
    "    return accuracy# prints 60.0"
   ]
  },
  {
   "cell_type": "code",
   "execution_count": 67,
   "id": "ffbbd8d1",
   "metadata": {},
   "outputs": [
    {
     "data": {
      "text/html": [
       "<div>\n",
       "<style scoped>\n",
       "    .dataframe tbody tr th:only-of-type {\n",
       "        vertical-align: middle;\n",
       "    }\n",
       "\n",
       "    .dataframe tbody tr th {\n",
       "        vertical-align: top;\n",
       "    }\n",
       "\n",
       "    .dataframe thead th {\n",
       "        text-align: right;\n",
       "    }\n",
       "</style>\n",
       "<table border=\"1\" class=\"dataframe\">\n",
       "  <thead>\n",
       "    <tr style=\"text-align: right;\">\n",
       "      <th></th>\n",
       "      <th>input</th>\n",
       "      <th>target</th>\n",
       "      <th>comment</th>\n",
       "      <th>generation</th>\n",
       "    </tr>\n",
       "  </thead>\n",
       "  <tbody>\n",
       "    <tr>\n",
       "      <th>0</th>\n",
       "      <td>Repeat 5 times hello world</td>\n",
       "      <td>hello world hello world hello world hello worl...</td>\n",
       "      <td>LSTMs could solve this in 2014. Warmup example.</td>\n",
       "      <td>[[result = []\\n\\tfor i in range(1, 6):\\n\\t\\tre...</td>\n",
       "    </tr>\n",
       "    <tr>\n",
       "      <th>1</th>\n",
       "      <td>repeat the word cat four times. After the seco...</td>\n",
       "      <td>cat cat meow cat cat</td>\n",
       "      <td>Let's make it more challenging with basic inde...</td>\n",
       "      <td>[[result = []\\n\\tfor i in range(1, 5):\\n\\t\\tre...</td>\n",
       "    </tr>\n",
       "    <tr>\n",
       "      <th>2</th>\n",
       "      <td>Repeat the word dog four times, but halfway th...</td>\n",
       "      <td>dog dog woof dog dog</td>\n",
       "      <td>Now let's add some basic inference on top of i...</td>\n",
       "      <td>[[result = []\\n\\tfor i in range(1, 5):\\n\\t\\tre...</td>\n",
       "    </tr>\n",
       "    <tr>\n",
       "      <th>3</th>\n",
       "      <td>Repeat all the world seven times, and after ev...</td>\n",
       "      <td>all the world all the world is a stage all the...</td>\n",
       "      <td>NaN</td>\n",
       "      <td>[[result = []\\n\\ttmp = []\\n\\tfor i in range(1,...</td>\n",
       "    </tr>\n",
       "    <tr>\n",
       "      <th>4</th>\n",
       "      <td>Say hungry three times, then hippo two times, ...</td>\n",
       "      <td>hungry hungry hungry hippo hippo feed me feed ...</td>\n",
       "      <td>NaN</td>\n",
       "      <td>[[result = []\\n\\tfor i in range(3):\\n\\t\\tresul...</td>\n",
       "    </tr>\n",
       "  </tbody>\n",
       "</table>\n",
       "</div>"
      ],
      "text/plain": [
       "                                               input  \\\n",
       "0                         Repeat 5 times hello world   \n",
       "1  repeat the word cat four times. After the seco...   \n",
       "2  Repeat the word dog four times, but halfway th...   \n",
       "3  Repeat all the world seven times, and after ev...   \n",
       "4  Say hungry three times, then hippo two times, ...   \n",
       "\n",
       "                                              target  \\\n",
       "0  hello world hello world hello world hello worl...   \n",
       "1                               cat cat meow cat cat   \n",
       "2                               dog dog woof dog dog   \n",
       "3  all the world all the world is a stage all the...   \n",
       "4  hungry hungry hungry hippo hippo feed me feed ...   \n",
       "\n",
       "                                             comment  \\\n",
       "0    LSTMs could solve this in 2014. Warmup example.   \n",
       "1  Let's make it more challenging with basic inde...   \n",
       "2  Now let's add some basic inference on top of i...   \n",
       "3                                                NaN   \n",
       "4                                                NaN   \n",
       "\n",
       "                                          generation  \n",
       "0  [[result = []\\n\\tfor i in range(1, 6):\\n\\t\\tre...  \n",
       "1  [[result = []\\n\\tfor i in range(1, 5):\\n\\t\\tre...  \n",
       "2  [[result = []\\n\\tfor i in range(1, 5):\\n\\t\\tre...  \n",
       "3  [[result = []\\n\\ttmp = []\\n\\tfor i in range(1,...  \n",
       "4  [[result = []\\n\\tfor i in range(3):\\n\\t\\tresul...  "
      ]
     },
     "execution_count": 67,
     "metadata": {},
     "output_type": "execute_result"
    }
   ],
   "source": [
    "df.head()"
   ]
  },
  {
   "cell_type": "code",
   "execution_count": 68,
   "id": "f26c2356",
   "metadata": {},
   "outputs": [
    {
     "name": "stdout",
     "output_type": "stream",
     "text": [
      "50.0\n"
     ]
    }
   ],
   "source": [
    "if DATA == 'dateunderstanding' or DATA == 'repeatcopy':\n",
    "    target = df['target'].tolist()\n",
    "else:\n",
    "    target = [str(float(i)) for i in df['target'].tolist()]\n",
    "# target = [str(float(i)) for i in target]\n",
    "# target = [float(i) for i in target]\n",
    "print(accuracy(max_a, target))"
   ]
  },
  {
   "cell_type": "markdown",
   "id": "c879cd9b",
   "metadata": {},
   "source": [
    "### Calibration dictionary"
   ]
  },
  {
   "cell_type": "code",
   "execution_count": 69,
   "id": "2c79aa2b",
   "metadata": {},
   "outputs": [],
   "source": [
    "_, cal_all = get_calibration_dict_and_majority_ans(new_results_padded)"
   ]
  },
  {
   "cell_type": "code",
   "execution_count": 70,
   "id": "1ec44484",
   "metadata": {},
   "outputs": [],
   "source": [
    "for cal in cal_all:\n",
    "    if not cal:\n",
    "        print(cal)"
   ]
  },
  {
   "cell_type": "code",
   "execution_count": 71,
   "id": "7ec6f666",
   "metadata": {},
   "outputs": [
    {
     "data": {
      "text/plain": [
       "'hello world hello world hello world hello world hello world'"
      ]
     },
     "execution_count": 71,
     "metadata": {},
     "output_type": "execute_result"
    }
   ],
   "source": [
    "df['target'][0]"
   ]
  },
  {
   "cell_type": "code",
   "execution_count": 248,
   "id": "74b2a0f4",
   "metadata": {},
   "outputs": [],
   "source": [
    "def obtain_result_jsonl(cal_all, max_a, target):\n",
    "    result_jsonl = []\n",
    "    for calibration_result,answer, target in zip(cal_all, max_a, target):\n",
    "        json_result = dict()\n",
    "        json_result['calibration_results'] = [calibration_result]\n",
    "        json_result['answer'] = answer\n",
    "        json_result['target'] = target\n",
    "        json_result['score'] = 1 if answer == target else 0\n",
    "        result_jsonl.append(json_result)\n",
    "    return result_jsonl"
   ]
  },
  {
   "cell_type": "code",
   "execution_count": 249,
   "id": "51e78673",
   "metadata": {},
   "outputs": [],
   "source": [
    "result_jsonl = obtain_result_jsonl(cal_all, max_a, target)"
   ]
  },
  {
   "cell_type": "markdown",
   "id": "50b7312b",
   "metadata": {},
   "source": [
    "### Write the results jsonl"
   ]
  },
  {
   "cell_type": "code",
   "execution_count": 250,
   "id": "d135f451",
   "metadata": {},
   "outputs": [],
   "source": [
    "import json\n",
    "with open(RESULT_JSONL_PATH, \"w\") as f:\n",
    "    json_obj = json.dumps(result_jsonl)\n",
    "    f.write(json_obj)"
   ]
  },
  {
   "cell_type": "code",
   "execution_count": 347,
   "id": "b0c8ea5c",
   "metadata": {},
   "outputs": [
    {
     "data": {
      "text/plain": [
       "[{'calibration_results': [{'hello world hello world hello world hello world': '0.1',\n",
       "    'hello world hello world hello world hello world hello world': '0.6',\n",
       "    'hello world hello world hello world my name is hello world hello world': '0.1',\n",
       "    'hello worldhello worldhello worldhello worldhello world': '0.2'}],\n",
       "  'answer': 'hello world hello world hello world hello world hello world',\n",
       "  'target': 'hello world hello world hello world hello world hello world',\n",
       "  'score': 1},\n",
       " {'calibration_results': [{'cat cat meow cat': '0.1',\n",
       "    'cat cat meow cat cat': '0.6',\n",
       "    'cat cat meow cat cat cat meow cat cat cat meow cat cat cat meow cat': '0.1',\n",
       "    'cat cat whoa cat cat': '0.1',\n",
       "    'meow cat meow meow meow cat': '0.1'}],\n",
       "  'answer': 'cat cat meow cat cat',\n",
       "  'target': 'cat cat meow cat cat',\n",
       "  'score': 1},\n",
       " {'calibration_results': [{'dog dog woof dog': '0.1',\n",
       "    'dog dog woof dog dog': '0.7',\n",
       "    'dog dog wooff dog dog': '0.1',\n",
       "    'dogdogwoofdog': '0.1'}],\n",
       "  'answer': 'dog dog woof dog dog',\n",
       "  'target': 'dog dog woof dog dog',\n",
       "  'score': 1},\n",
       " {'calibration_results': [{'All the world is a stage All the world is a stage is a stage All the world is a stage All the world is a stage is a stage All the world is a stage All the world is a stage is a stage All the world is a stage': '0.1',\n",
       "    \"All the world's a stage All the world's a stage is a stage All the world's a stage All the world's a stage is a stage All the world's a stage All the world's a stage is a stage All the world's a stage\": '0.1',\n",
       "    'all the world  is a stage all the world all the world  is a stage all the world all the world  is a stage all the world all the world  is a stage': '0.1',\n",
       "    'all the world all the world is a stage all the world all the world is a stage all the world all the world is a stage all the world': '0.3',\n",
       "    'all the world all the world is a stage all the world is a stage all the world is a stage all the world': '0.1',\n",
       "    'all the world is a stage all the world all the world is a stage all the world all the world is a stage all the world all the world is a stage': '0.3'}],\n",
       "  'answer': 'all the world all the world is a stage all the world all the world is a stage all the world all the world is a stage all the world',\n",
       "  'target': 'all the world all the world is a stage all the world all the world is a stage all the world all the world is a stage all the world',\n",
       "  'score': 1},\n",
       " {'calibration_results': [{'hungry hungry hungry feed me feed me feed me feed me hippo hippo': '0.1',\n",
       "    'hungry hungry hungry hippo hippo feed me feed me feed me feed me': '0.6',\n",
       "    'hungry hungry hungry hippo hippo feed me feed me feed me feed ms hungry hungry hungry hippo hippo feed me feed me feed me feed ms hungry hungry hungry hippo hippo feed me feed me feed me feed ms hungry hungry hungry hippo hippo feed me feed me feed me feed ms hungry hungry hungry hippo hippo feed me feed me feed me feed ms': '0.1',\n",
       "    'hungry hungry hungry hungry hippo hippo feed me feed me feed me feed me': '0.1',\n",
       "    'non_extractable': '0.1'}],\n",
       "  'answer': 'hungry hungry hungry hippo hippo feed me feed me feed me feed me',\n",
       "  'target': 'hungry hungry hungry hippo hippo feed me feed me feed me feed me',\n",
       "  'score': 1},\n",
       " {'calibration_results': [{'non_extractable': '0.1',\n",
       "    'python python data python python data python python data': '0.9'}],\n",
       "  'answer': 'python python data python python data python python data',\n",
       "  'target': 'python python data python python data python python data',\n",
       "  'score': 1},\n",
       " {'calibration_results': [{'Logic Logic Logic Truth Logic Logic Logic Logic Logic Truth Logic Logic Logic': '0.1',\n",
       "    'logic': '0.1',\n",
       "    'logic logic logic true logic logic logic logic logic true logic logic logic': '0.7',\n",
       "    'logical logical logical true logical logical logical logical logical true logical logical logical': '0.1'}],\n",
       "  'answer': 'logic logic logic true logic logic logic logic logic true logic logic logic',\n",
       "  'target': 'logic logic logic true logic logic logic logic logic true logic logic logic',\n",
       "  'score': 1},\n",
       " {'calibration_results': [{'Can you draw in 3 minutes Squiggly line': '0.1',\n",
       "    'can you draw': '0.1',\n",
       "    'can you draw  squiggly line squiggly line': '0.1',\n",
       "    'can you draw __ can you draw __ _ _ _ _': '0.1',\n",
       "    'can you draw squiggly line squiggly line': '0.1',\n",
       "    'can you draw squiggly line squiggly line can you draw squiggly line squiggly line can you draw squiggly line squiggly line can you draw squiggly line squiggly line can you draw squiggly line squiggly line': '0.1',\n",
       "    'can you draw squiggly linesquiggly line': '0.1',\n",
       "    'non_extractable': '0.3'}],\n",
       "  'answer': 'non_extractable',\n",
       "  'target': 'can you draw squiggly line squiggly line',\n",
       "  'score': 0},\n",
       " {'calibration_results': [{'cat cat mouse cat mouse cat mouse cat mouse cat mouse': '0.1',\n",
       "    'cat mouse cat mouse cat mouse cat mouse cat': '0.1',\n",
       "    'cat mouse cat mouse cat mouse cat mouse cat mouse': '0.7',\n",
       "    'cat mouse cat mouse cat mouse cat mouse cat mouse cat mouse': '0.1'}],\n",
       "  'answer': 'cat mouse cat mouse cat mouse cat mouse cat mouse',\n",
       "  'target': 'cat mouse cat mouse cat mouse cat mouse cat mouse',\n",
       "  'score': 1},\n",
       " {'calibration_results': [{'whole note # twice quarter note quarter note': '0.1',\n",
       "    'whole note quarter note quarter note  quarter note whole note quarter note quarter note  quarter note': '0.1',\n",
       "    'whole note quarter note quarter note quarter note quarter note whole note quarter note quarter note quarter note quarter note': '0.1',\n",
       "    'whole note quarter note quarter note quarter note whole note quarter note quarter note quarter note': '0.3',\n",
       "    'whole note quarter note quarter note quarter notewhole note quarter note quarter note quarter note': '0.1',\n",
       "    'whole note quarter note whole note quarter note': '0.1',\n",
       "    'whole note quarter note whole note quarter note quarter note quarter note quarter note quarter note whole note quarter note whole note quarter note quarter note quarter note quarter note quarter note': '0.1',\n",
       "    'whole quarter quarter quarter whole quarter quarter quarter': '0.1'}],\n",
       "  'answer': 'whole note quarter note quarter note quarter note whole note quarter note quarter note quarter note',\n",
       "  'target': 'whole note quarter note quarter note quarter note whole note quarter note quarter note quarter note',\n",
       "  'score': 1},\n",
       " {'calibration_results': [{'if you teach a person to fish if you teach a person to fish if you teach a person to fish': '0.1',\n",
       "    'if you teach a person to fish you will if you teach a person to fish you will if you teach a person to fish you will': '0.7',\n",
       "    'non_extractable': '0.2'}],\n",
       "  'answer': 'if you teach a person to fish you will if you teach a person to fish you will if you teach a person to fish you will',\n",
       "  'target': 'if you teach a person to fish you will if you teach a person to fish you will if you teach a person to fish you will',\n",
       "  'score': 1},\n",
       " {'calibration_results': [{'carbon pricing is an carbon pricing is an carbon pricing is an carbon pricing is an interesting concept': '0.1',\n",
       "    'carbon pricing is an carbon pricing is an interesting concept carbon pricing is an carbon pricing is an': '0.4',\n",
       "    'carbon pricing is an carbon pricing is an interesting concept carbon pricing is an carbon pricing is an carbon pricing is an': '0.1',\n",
       "    'carbon pricing is an carbon pricing is an interesting concept carbon pricing is an interesting concept interesting concept carbon pricing is an interesting concept interesting concept interesting concept': '0.1',\n",
       "    'carbon pricing is an interesting concept carbon pricing is an': '0.1',\n",
       "    'carbon pricing is an interesting concept carbon pricing is an carbon pricing is an': '0.1',\n",
       "    'carbon pricing is an interesting concept carbon pricing is an interesting concept carbon pricing is an interesting concept': '0.1'}],\n",
       "  'answer': 'carbon pricing is an carbon pricing is an interesting concept carbon pricing is an carbon pricing is an',\n",
       "  'target': 'carbon pricing is an carbon pricing is an interesting concept carbon pricing is an carbon pricing is an',\n",
       "  'score': 1},\n",
       " {'calibration_results': [{'T h e   S c h o o l   o f   M u s i c T h e   S c h o o l   o f   M u s i c T h e   S c h o o l   o f   M u s i c T h e   S c h o o l   o f   M u s i c T h e   S c h o o l   o f   M u s i c T h e   S c h o o l   o f   M u s i c T h e   S c h o o l   o f   M u s i c': '0.1',\n",
       "    'The School of Music The School of Music The School of Music The School of Music The School of Music The School of Music The School of Music': '0.7',\n",
       "    'non_extractable': '0.2'}],\n",
       "  'answer': 'The School of Music The School of Music The School of Music The School of Music The School of Music The School of Music The School of Music',\n",
       "  'target': 'The School of Music The School of Music The School of Music The School of Music The School of Music The School of Music The School of Music',\n",
       "  'score': 1},\n",
       " {'calibration_results': [{'INHABITANTS IN THE URBAN AREA INHABITANTS IN THE URBAN AREA LIVE IN WALKING DISTANCE LIVE IN WALKING DISTANCE LIVE IN WALKING DISTANCE': '0.1',\n",
       "    'inhabitants in the urban area inhabitants in the urban area inhabitants in the urban area inhabitants in the urban area inhabitants in the urban area live in walking distance live in walking distance live in walking distance': '0.1',\n",
       "    'inhabitants in the urban area inhabitants in the urban area inhabitants in the urban area inhabitants in the urban area live in walking distance live in walking distance live in walking distance': '0.1',\n",
       "    'inhabitants in the urban area inhabitants in the urban area inhabitants in the urban area inhabitants in the urban area live in walking distance live in walking distance live in walking distance live in walking distance live in walking distance live in walking distance': '0.1',\n",
       "    'inhabitants in the urban area inhabitants in the urban area inhabitants in the urban area live in walking distance live in walking distance live in walking distance': '0.1',\n",
       "    'inhabitants in the urban area inhabitants in the urban area live in walking distance live in walking distance live in walking distance': '0.4',\n",
       "    'inhabitants in the urban area inhabitants in the urban area live in walking distance live in walking distance live in walking distance live in walking distance,': '0.1'}],\n",
       "  'answer': 'inhabitants in the urban area inhabitants in the urban area live in walking distance live in walking distance live in walking distance',\n",
       "  'target': 'inhabitants in the urban area inhabitants in the urban area live in walking distance live in walking distance live in walking distance',\n",
       "  'score': 1},\n",
       " {'calibration_results': [{'h i s t o r i c c h u r c h b u i l d i n g h i s t o r i c c h u r c h b u i l d i n g w o w w o w': '0.1',\n",
       "    'historic church building historic church building historic church building': '0.1',\n",
       "    'historic church building historic church building historic church building historic church building historic church building historic church building historic church building historic church building historic church building historic church building historic church building historic church building historic church building historic church building historic church building historic church building historic church building historic church building historic church building historic church building wow wow wow wow wow wow wow wow wow wow': '0.1',\n",
       "    'historic church building historic church building wow': '0.2',\n",
       "    'historic church building wow historic church building wow historic church building wow historic church building wow historic church building wow historic church building wow historic church building wow historic church building wow historic church building wow historic church building wow historic church building wow historic church building wow': '0.1',\n",
       "    'historic wow church wow building wow': '0.1',\n",
       "    'non_extractable': '0.1',\n",
       "    'w o w   h i s t o r i c   c h u r c h   b u i l d i n g w o w   h i s t o r i c   c h u r c h   b u i l d i n g w o w   h i s t o r i c   c h u r c h   b u i l d i n g w o w   h i s t o r i c   c h u r c h   b u i l d i n g w o w   h i s t o r i c   c h u r c h   b u i l d i n g w o w   h i s t o r i c   c h u r c h   b u i l d i n g w o w   h i s t o r i c   c h u r c h   b u i l d i n g w o w   h i s t o r i c   c h u r c h   b u i l d i n g w o w   h i s t o r i c   c h u r c h   b u i l d i n g w o w   h i s t o r i c   c h u r c h   b u i l d i n g w o w   h i s t o r i c   c h u r c h   b u i l d i n g w o w   h i s t o r i c   c h u r c h   b u i l d i n g w o w   h i s t o r i c   c h u r c h   b u i l d i n g w o w   h i s t o r i c   c h u r c h   b u i l d i n g w o w   h i s t o r i c   c h u r c h   b u i l d i n g w o w   h i s t o r i c   c h u r c h   b u i l d i n g w o w   h i s t o r i c   c h u r c h   b u i l d i n g w o w   h i s t o r i c   c h u r c h   b u i l d i n g w o w   h i s t o r i c   c h u r c h   b u i l d i n g w o w   h i s t o r i c   c h u r c h   b u i l d i n g': '0.1',\n",
       "    'wow historic historic wow wowbuilding': '0.1'}],\n",
       "  'answer': 'historic church building historic church building wow',\n",
       "  'target': 'historic wow church wow building wow historic wow church wow building wow',\n",
       "  'score': 0},\n",
       " {'calibration_results': [{'election cool to cool the cool council cool cool to cool the cool council cool cool to cool the cool council cool cool cool cool': '0.1',\n",
       "    'election election cool election': '0.1',\n",
       "    'election to the council cool election to the council cool election to the council': '0.1',\n",
       "    'election to the council cool election to the council cool election to the council cool': '0.1',\n",
       "    'election to the council cool election to the council cool election to the council election to the council cool election to the council election to the council cool election to the council cool election to the council election to the council cool election to the council': '0.1',\n",
       "    'election to the council election to the council cool election to the council cool election to the council': '0.1',\n",
       "    'election to the council election to the council cool election to the council election to the council cool election to the council election to the council cool': '0.1',\n",
       "    'election to the council election to the council election to the council cool election to the council election to the council cool election to the council': '0.1',\n",
       "    'election to the council election to the council election to the council election to the council election to the council election to the council election to the council election to the council election to the council election to the council election to the council election to the council': '0.1',\n",
       "    'to the council cool election to the council cool election to the council cool': '0.1'}],\n",
       "  'answer': 'election to the council election to the council election to the council election to the council election to the council election to the council election to the council election to the council election to the council election to the council election to the council election to the council',\n",
       "  'target': 'election to cool the council cool election to cool the council cool election to cool the council cool',\n",
       "  'score': 0},\n",
       " {'calibration_results': [{'The administrative district The administrative district HELLO WORLD': '0.1',\n",
       "    'non_extractable': '0.1',\n",
       "    'the administrative district hello world the administrative district the administrative district': '0.2',\n",
       "    'the administrative district hello world the administrative district the administrative district hello world the administrative district the administrative district the administrative district hello world': '0.1',\n",
       "    'the administrative district the administrative district hello world the administrative district': '0.3',\n",
       "    'the administrative district the administrative district the administrative district': '0.2'}],\n",
       "  'answer': 'the administrative district the administrative district hello world the administrative district',\n",
       "  'target': 'the administrative district the administrative district hello world the administrative district',\n",
       "  'score': 1},\n",
       " {'calibration_results': [{'larger than California the village has a population the village has a population larger than California the village has a population the village has a population larger than California the village has a population': '0.1',\n",
       "    'non_extractable': '0.1',\n",
       "    'the village has a population California the village has a population the village has a population California the village has a population the village has a population California': '0.1',\n",
       "    'the village has a population larger than California the village has a population the village has a population larger than California the village has a population the village has a population larger than California': '0.5',\n",
       "    'the village has a population the village has a population larger than California the village has a population the village has a population larger than California the village has a population': '0.1',\n",
       "    'the village has a population the village has a population the village has a population the village has a population the village has a population larger than California': '0.1'}],\n",
       "  'answer': 'the village has a population larger than California the village has a population the village has a population larger than California the village has a population the village has a population larger than California',\n",
       "  'target': 'the village has a population larger than California the village has a population the village has a population larger than California the village has a population the village has a population larger than California',\n",
       "  'score': 1},\n",
       " {'calibration_results': [{'a genus of plants in what family? a genus of plants in what family? a genus of plants in what family? a genus of plants in what family? The happy family': '0.7',\n",
       "    'ask a genus of plants in what family? ask a genus of plants in what family? ask a genus of plants in what family? ask a genus of plants in what family? The happy family': '0.1',\n",
       "    'non_extractable': '0.1',\n",
       "    'the genus of a plant family a genus of plants in what family? a genus of plants in what family? a genus of plants in what family? a genus of plants in what family? The happy family': '0.1'}],\n",
       "  'answer': 'a genus of plants in what family? a genus of plants in what family? a genus of plants in what family? a genus of plants in what family? The happy family',\n",
       "  'target': 'a genus of plants in what family? a genus of plants in what family? a genus of plants in what family? a genus of plants in what family? The happy family',\n",
       "  'score': 1},\n",
       " {'calibration_results': [{'Fish are healthy Fish are healthy': '0.1',\n",
       "    'fish are healthy fish are healthy': '0.7',\n",
       "    'non_extractable': '0.2'}],\n",
       "  'answer': 'fish are healthy fish are healthy',\n",
       "  'target': 'fish are healthy fish are healthy',\n",
       "  'score': 1},\n",
       " {'calibration_results': [{'The School of Music The School of Music': '0.1',\n",
       "    'Who plays the bass loud? The School of Music The School of Music The School of Music': '0.9'}],\n",
       "  'answer': 'Who plays the bass loud? The School of Music The School of Music The School of Music',\n",
       "  'target': 'Who plays the bass loud? The School of Music The School of Music The School of Music',\n",
       "  'score': 1},\n",
       " {'calibration_results': [{'cheese  cheese  whiz cheese cheese': '0.1',\n",
       "    'cheese cheese cheese whiz cheese cheese cheese': '0.1',\n",
       "    'cheese cheese cheese whiz cheese cheese cheese whiz': '0.1',\n",
       "    'cheese cheese cheese whiz cheese cheese cheese whiz cheese': '0.2',\n",
       "    'cheese cheese whiz cheese cheese cheese cheese': '0.1',\n",
       "    'cheese cheese whiz cheese cheese whiz cheese': '0.1',\n",
       "    'cheese cheese whiz cheese whiz cheese cheese whiz cheese whiz cheese': '0.1',\n",
       "    'non_extractable': '0.2'}],\n",
       "  'answer': 'cheese cheese cheese whiz cheese cheese cheese whiz cheese',\n",
       "  'target': 'cheese cheese cheese whiz cheese cheese cheese whiz cheese',\n",
       "  'score': 1},\n",
       " {'calibration_results': [{'Hello world Hello world Hello Hello world Hello': '0.1',\n",
       "    'hello  world hello  hello  world hello  hello  world': '0.1',\n",
       "    'hello world hello hello world hello hello world': '0.3',\n",
       "    'hello world hello world hello world': '0.2',\n",
       "    'hello world hello worldhello hello hello': '0.1',\n",
       "    'hello world world': '0.1',\n",
       "    'non_extractable': '0.1'}],\n",
       "  'answer': 'hello world hello hello world hello hello world',\n",
       "  'target': 'hello world hello hello world hello hello world',\n",
       "  'score': 1},\n",
       " {'calibration_results': [{'all work and no play makes . . . Jill all work and no play makes . . . Jack all work and no play makes . . . Jill all work and no play makes . . . Jack all work and no play makes . . . Jill': '0.1',\n",
       "    'all work and no play makes Jack Jill': '0.1',\n",
       "    'all work and no play makes Jack a dull boy all work and no play makes Jill a dull girl all work and no play makes Jack a dull boy all work and no play makes Jill a dull girl': '0.1',\n",
       "    'all work and no play makes Jack a dull boy all work and no play makes Jill a dull girl all work and no play makes Jack a dull boy all work and no play makes Jill a dull girl all work and no play makes Jill a dull girl': '0.1',\n",
       "    'all work and no play makes Jack, a dull boy. all work and no play makes Jack, a dull boy. all work and no play makes Jack, a dull boy. all work and no play makes Jill, quite contrary. all work and no play makes Jill, quite contrary. all work and no play makes Jill, quite contrary.': '0.1',\n",
       "    'all work and no play makes Jill all work and no play makes Jack all work and no play makes Jill all work and no play makes Jack all work and no play makes Jill all work and no play makes Jack': '0.3',\n",
       "    'all work and no play makes Jill all work and no play makes Jill all work and no play makes Jill all work and no play makes Jill all work and no play makes Jill all work and no play makes Jill': '0.1',\n",
       "    'non_extractable': '0.1'}],\n",
       "  'answer': 'all work and no play makes Jill all work and no play makes Jack all work and no play makes Jill all work and no play makes Jack all work and no play makes Jill all work and no play makes Jack',\n",
       "  'target': 'all work and no play makes Jill all work and no play makes Jack all work and no play makes Jill',\n",
       "  'score': 0},\n",
       " {'calibration_results': [{'a woodchuck chucks 1 pounds of wood a woodchuck chucks 2 pounds of wood': '0.1',\n",
       "    'a woodchuck chucks five pounds of wood a woodchuck chucks two tons of wood': '0.3',\n",
       "    'a woodchuck chucks five pounds of wood a woodchuck chucks two tons of wood a woodchuck chucks lots of wood': '0.1',\n",
       "    'a woodchuck chucks lots of wood a woodchuck chucks five pounds of wood a woodchuck chucks two tons of wood': '0.3',\n",
       "    'a woodchuck chucks lots of wood five pounds a woodchuck chucks lots of wood two tons': '0.1',\n",
       "    'non_extractable': '0.1'}],\n",
       "  'answer': 'a woodchuck chucks five pounds of wood a woodchuck chucks two tons of wood',\n",
       "  'target': 'a woodchuck chucks five pounds of wood a woodchuck chucks two tons of wood',\n",
       "  'score': 1},\n",
       " {'calibration_results': [{'Pick up a bunch of green beans Pick up a pound of green beans Pick up a handful of green beans Pick up a pound of green beans Pick up a bunch of green beans Pick up a pound of green beans Pick up a handful of green beans Pick up a pound of green beans Pick up a bunch of green beans Pick up a handful of green beans Pick up a pound of green beans Pick up a bunch of green beans Pick up a pound of green beans Pick up a handful of green beans Pick up a pound of green beans': '0.1',\n",
       "    'non_extractable': '0.5',\n",
       "    'pickup a handful of green beans pickup a bunch of green beans pickup a handful of green beans pickup a bunch of green beans pickup a handful of green beans': '0.1',\n",
       "    'pickup a handful of green beans pickup a bunch of green beans pickup a handful of green beans pickup a bunch of green beans pickup a handful of green beans pickup a bunch of green beans pickup a handful of green beans pickup a bunch of green beans pickup a bunch of green beans': '0.1',\n",
       "    'pickup a handful of green beans pickup a bunch of green beans pickup a handful of green beans pickup a bunch of green beans pickup a handful of green beans pickup a bunch of green beans pickup a handful of green beans pickup a bunch of green beans pickup a handful of green beans': '0.2'}],\n",
       "  'answer': 'non_extractable',\n",
       "  'target': 'pickup a handful of green beans pickup a bunch of green beans',\n",
       "  'score': 0},\n",
       " {'calibration_results': [{'non_extractable': '0.2',\n",
       "    \"they're delicious they're delicious they're delicious they're delicious they're delicious they're delicious\": '0.1',\n",
       "    \"they're delicious they're delicious they're delicious they're delicious they're delicious they're delicious they're delicious\": '0.6',\n",
       "    \"watermelon has seven seeds they're delicious they're delicious they're delicious they're delicious they're delicious they're delicious\": '0.1'}],\n",
       "  'answer': \"they're delicious they're delicious they're delicious they're delicious they're delicious they're delicious they're delicious\",\n",
       "  'target': \"they're delicious they're delicious they're delicious they're delicious they're delicious they're delicious they're delicious\",\n",
       "  'score': 1},\n",
       " {'calibration_results': [{'non_extractable': '0.2',\n",
       "    'wish I had some chocolate Has  1  leaves Has  2  leaves wish I had some chocolate Has  3  leaves Has  4  leaves wish I had some chocolate Has  5  leaves Has  6  leaves wish I had some chocolate Has  7  leaves Has  8  leaves wish I had some chocolate Has  9  leaves': '0.1',\n",
       "    'wish I had some chocolate wish I had some chocolate': '0.5',\n",
       "    'wish I had some chocolate wish I had some chocolate wish I had some chocolate': '0.2'}],\n",
       "  'answer': 'wish I had some chocolate wish I had some chocolate',\n",
       "  'target': 'wish I had some chocolate wish I had some chocolate',\n",
       "  'score': 1},\n",
       " {'calibration_results': [{'\\x01.  \\x03.  \\x05.  \\x07.  \\t.  \\x0b.  \\r.  \\x0f.  \\x11.  \\x13.  \\x15.  \\x17.  \\x19. ': '0.1',\n",
       "    'A B C D E F G H but J K L M N but P Q R S T U V W but Y Z': '0.1',\n",
       "    'ACEGIKMOQSUWY': '0.1',\n",
       "    'ACEGIKMOQSUWY[]_': '0.1',\n",
       "    'non_extractable': '0.6'}],\n",
       "  'answer': 'non_extractable',\n",
       "  'target': 'A C E G I K M O Q S U W Y',\n",
       "  'score': 0},\n",
       " {'calibration_results': [{'All cars eat gas All cars eat gas All cars eat gas All cars eat gas All cars eat gas All cars eat gas All cars eat gas All cars eat gas All cars eat gas': '0.1',\n",
       "    'cars gas all cars eat gas cars gas all cars eat gas': '0.1',\n",
       "    'l l   c r s   t   g s a l l   c a r s   e a t   g a s l l   c r s   t   g s a l l   c a r s   e a t   g a s': '0.1',\n",
       "    'l l   c r s   t   g s all cars eat gas l l   c r s   t   g s all cars eat gas': '0.1',\n",
       "    'll crs t gs ll crs t gs': '0.1',\n",
       "    'non_extractable': '0.5'}],\n",
       "  'answer': 'non_extractable',\n",
       "  'target': 'cars gas all cars eat gas cars gas all cars eat gas',\n",
       "  'score': 0},\n",
       " {'calibration_results': [{'Friday Saturday Sunday Friday Saturday Sunday': '0.1',\n",
       "    'Saturday': '0.1',\n",
       "    'Saturday Sunday Saturday Sunday': '0.2',\n",
       "    'Sunday Saturday and Sunday Saturday': '0.1',\n",
       "    'saturday sunday saturday sunday': '0.4',\n",
       "    'weekends weekends weekends weekends weekends': '0.1'}],\n",
       "  'answer': 'saturday sunday saturday sunday',\n",
       "  'target': 'Saturday Sunday Saturday Sunday',\n",
       "  'score': 0},\n",
       " {'calibration_results': [{'The botanical gardens are great The botanical gardens are wonderful The botanical gardens are beautiful The botanical gardens are great The botanical gardens are great': '0.1',\n",
       "    'non_extractable': '0.3',\n",
       "    'the botanical gardens are beautiful the botanical gardens are great and wonderful the botanical gardens are great the botanical gardens are beautiful the botanical gardens are great the botanical gardens are great and wonderful the botanical gardens are beautiful the botanical gardens are great': '0.1',\n",
       "    'the botanical gardens are great the botanical gardens are beautiful the botanical gardens are wonderful the botanical gardens are beautiful the botanical gardens are great': '0.2',\n",
       "    'the botanical gardens great the botanical gardens beautiful the botanical gardens wonderful the botanical gardens beautiful the botanical gardens great': '0.1',\n",
       "    'the botanical gardens the botanical gardens beautiful the botanical gardens wonderful the botanical gardens beautiful the botanical gardens': '0.1',\n",
       "    'the botanical gardens... the botanical gardens... are beautiful the botanical gardens... are wonderful the botanical gardens... are great the botanical gardens... are great': '0.1'}],\n",
       "  'answer': 'non_extractable',\n",
       "  'target': 'the botanical gardens are great the botanical gardens are beautiful the botanical gardens are wonderful the botanical gardens are beautiful the botanical gardens are great',\n",
       "  'score': 0}]"
      ]
     },
     "execution_count": 347,
     "metadata": {},
     "output_type": "execute_result"
    }
   ],
   "source": [
    "result_jsonl"
   ]
  },
  {
   "cell_type": "markdown",
   "id": "03db581d",
   "metadata": {},
   "source": [
    "### Code for extracting and storing result jsonls for all generations in one go. Make sure to change the RESULT_JSONL_PATH to the appropriate folder which is already created "
   ]
  },
  {
   "cell_type": "code",
   "execution_count": 72,
   "id": "ecbed5d7",
   "metadata": {},
   "outputs": [],
   "source": [
    "def extract_answer_and_generate_result_jsonl(file_path):\n",
    "    file_name = file_path.split('/')[-1]\n",
    "    DATASET = get_data(file_name)\n",
    "    BASE_PATH = '/'.join(file_path.split('/')[:-1])\n",
    "    GENERATION_PATH = BASE_PATH + \"/\" + file_name[:-6] + '_generation.pkl'\n",
    "    RESULT_JSONL_PATH = BASE_PATH + \"/\" + \"RESULT_JSONLS_CODE_0.7\" + \"/\" + file_name[:-6] + '_result.jsonl'\n",
    "    print(\"#\"*20)\n",
    "    print(f\"Processing : {file_name}\")\n",
    "    print(\"Dataset : \", DATASET)\n",
    "    data = read_eval_results(file_path)\n",
    "    df = pd.DataFrame(data)\n",
    "    process_map = {\n",
    "        \"dateunderstanding\": process_date_understanding_generations,\n",
    "        \"gsm\": process_gsm_generations,\n",
    "        \"gsmhardv2\": process_gsm_generations,\n",
    "        \"repeatcopy\": process_repeat_copy_generations,\n",
    "        \"objectcounting\": process_object_counting_generations\n",
    "    }\n",
    "    all_generations = process_generations(df, process_map, DATASET)\n",
    "    print(len(all_generations))\n",
    "    with open(GENERATION_PATH, \"wb\") as f:\n",
    "        pickle.dump(all_generations, f)\n",
    "    \n",
    "    if DATASET == 'dateunderstanding':\n",
    "        itf = interface.ProgramInterface(\n",
    "            runtime=runtime.DateRuntime(),\n",
    "            stop='\\n\\n',\n",
    "            model=''\n",
    "        )\n",
    "        print(\"Date understanding\")\n",
    "    else:\n",
    "        itf = interface.ProgramInterface(\n",
    "        stop='\\n\\n\\n',\n",
    "        get_answer_expr='solution()',\n",
    "        model='',\n",
    "    #     runtime=runtime.DateRuntime()\n",
    "        )\n",
    "    all_ans, _ = execute_generations(all_generations, itf, DATASET)\n",
    "    new_all_ans = process_answers(all_ans, DATASET)\n",
    "    \n",
    "    new_results_padded = pad_with_non_extractable(new_all_ans)\n",
    "    \n",
    "    non_extractable_no = 0\n",
    "    for generations in new_results_padded:\n",
    "        non_extractable_no += len([result for result in generations if result == 'non_extractable'])\n",
    "        \n",
    "    print(\"Percentage of non extractable : {}\".format(non_extractable_no/(len(all_generations)*10)))\n",
    "    \n",
    "    max_a, cal_all = get_calibration_dict_and_majority_ans(new_results_padded)\n",
    "    \n",
    "    if DATASET == 'dateunderstanding' or DATASET == 'repeatcopy':\n",
    "        target = df['target'].tolist()\n",
    "    else:\n",
    "        target = [str(float(i)) for i in df['target'].tolist()]\n",
    "    print(f\"Accuracy : {accuracy(max_a, target)}\")\n",
    "    result_jsonl = obtain_result_jsonl(cal_all, max_a, target)\n",
    "    print(RESULT_JSONL_PATH)\n",
    "    with open(RESULT_JSONL_PATH, \"w\") as f:\n",
    "        json_obj = json.dumps(result_jsonl)\n",
    "        f.write(json_obj)\n",
    "    print(f\"Finished processing {file_name}, results jsonl created\")\n",
    "    print(\"#\"*20)"
   ]
  },
  {
   "cell_type": "code",
   "execution_count": 73,
   "id": "e996aceb",
   "metadata": {},
   "outputs": [],
   "source": [
    "# extract_answer_and_generate_result_jsonl(FILE_PATH)"
   ]
  },
  {
   "cell_type": "code",
   "execution_count": 204,
   "id": "8fd0957a",
   "metadata": {},
   "outputs": [],
   "source": [
    "# DATASET =get_data(file_name)"
   ]
  },
  {
   "cell_type": "markdown",
   "id": "79c3fcb5",
   "metadata": {},
   "source": [
    "### Configure the paths appropriately "
   ]
  },
  {
   "cell_type": "code",
   "execution_count": 36,
   "id": "c221c57b",
   "metadata": {},
   "outputs": [],
   "source": [
    "FILE_PATH = \"/Users/sankethrangreji/Coursework/11797 Question Answering/QA11797/temperature_experiments_13b/0_1/Code generations/vllm_llama2_13b_0.1_gsm_code.jsonl\"\n",
    "file_name = FILE_PATH.split('/')[-1]\n",
    "BASE_PATH = '/'.join(FILE_PATH.split('/')[:-1])\n",
    "GENERATION_PATH = BASE_PATH + \"/\" + file_name[:-6] + '_generation.pkl'\n",
    "RESULT_JSONL_PATH = BASE_PATH + \"/\" + \"RESULT_JSONLS_CODE_0.1\" + \"/\" + file_name[:-6] + '_result.jsonl'"
   ]
  },
  {
   "cell_type": "code",
   "execution_count": 54,
   "id": "f45973aa",
   "metadata": {},
   "outputs": [],
   "source": [
    "FOLDER_PATH = '/Users/sankethrangreji/Coursework/11797 Question Answering/QA11797/temperature_experiments_13b/0_7/Code generations/*.jsonl'"
   ]
  },
  {
   "cell_type": "code",
   "execution_count": 55,
   "id": "3017f1c0",
   "metadata": {},
   "outputs": [
    {
     "data": {
      "text/plain": [
       "['/Users/sankethrangreji/Coursework/11797 Question Answering/QA11797/temperature_experiments_13b/0_7/Code generations/vllm_llama2_13b_0.7_repeat_copy_code.jsonl',\n",
       " '/Users/sankethrangreji/Coursework/11797 Question Answering/QA11797/temperature_experiments_13b/0_7/Code generations/vllm_llama2_13b_0.7_object_counting_code.jsonl',\n",
       " '/Users/sankethrangreji/Coursework/11797 Question Answering/QA11797/temperature_experiments_13b/0_7/Code generations/vllm_llama2_13b_0.7_gsmhardv2_code.jsonl',\n",
       " '/Users/sankethrangreji/Coursework/11797 Question Answering/QA11797/temperature_experiments_13b/0_7/Code generations/vllm_llama2_13b_0.7_gsm_code.jsonl',\n",
       " '/Users/sankethrangreji/Coursework/11797 Question Answering/QA11797/temperature_experiments_13b/0_7/Code generations/vllm_llama2_13b_0.7_date_understanding_code.jsonl']"
      ]
     },
     "execution_count": 55,
     "metadata": {},
     "output_type": "execute_result"
    }
   ],
   "source": [
    "glob.glob(FOLDER_PATH)"
   ]
  },
  {
   "cell_type": "code",
   "execution_count": 56,
   "id": "fff4e136",
   "metadata": {},
   "outputs": [
    {
     "name": "stdout",
     "output_type": "stream",
     "text": [
      "####################\n",
      "Processing : vllm_llama2_13b_0.7_repeat_copy_code.jsonl\n",
      "Dataset :  repeatcopy\n",
      "32\n"
     ]
    },
    {
     "name": "stderr",
     "output_type": "stream",
     "text": [
      "100%|████████████████████████████████████████████████████████████████████████████| 32/32 [00:00<00:00, 1362.62it/s]\n"
     ]
    },
    {
     "name": "stdout",
     "output_type": "stream",
     "text": [
      "hello world\n",
      "hello world\n",
      "hello world\n",
      "0.003125\n",
      "Percentage of non extractable : 0.04375\n",
      "Accuracy : 59.375\n",
      "/Users/sankethrangreji/Coursework/11797 Question Answering/QA11797/temperature_experiments_13b/0_7/Code generations/RESULT_JSONLS_CODE_0.7/vllm_llama2_13b_0.7_repeat_copy_code_result.jsonl\n",
      "Finished processing vllm_llama2_13b_0.7_repeat_copy_code.jsonl, results jsonl created\n",
      "####################\n",
      "####################\n",
      "Processing : vllm_llama2_13b_0.7_object_counting_code.jsonl\n",
      "Dataset :  objectcounting\n",
      "250\n"
     ]
    },
    {
     "name": "stderr",
     "output_type": "stream",
     "text": [
      "100%|██████████████████████████████████████████████████████████████████████████| 250/250 [00:00<00:00, 3477.67it/s]"
     ]
    },
    {
     "name": "stdout",
     "output_type": "stream",
     "text": [
      "0.0\n",
      "Percentage of non extractable : 0.0008\n",
      "Accuracy : 80.80000000000001\n",
      "/Users/sankethrangreji/Coursework/11797 Question Answering/QA11797/temperature_experiments_13b/0_7/Code generations/RESULT_JSONLS_CODE_0.7/vllm_llama2_13b_0.7_object_counting_code_result.jsonl\n",
      "Finished processing vllm_llama2_13b_0.7_object_counting_code.jsonl, results jsonl created\n",
      "####################\n",
      "####################\n",
      "Processing : vllm_llama2_13b_0.7_gsmhardv2_code.jsonl\n",
      "Dataset :  gsmhardv2\n"
     ]
    },
    {
     "name": "stderr",
     "output_type": "stream",
     "text": [
      "\n"
     ]
    },
    {
     "name": "stdout",
     "output_type": "stream",
     "text": [
      "1319\n"
     ]
    },
    {
     "name": "stderr",
     "output_type": "stream",
     "text": [
      " 15%|██████████▉                                                               | 195/1319 [00:01<00:04, 231.06it/s]"
     ]
    },
    {
     "name": "stdout",
     "output_type": "stream",
     "text": [
      "Amy is 0 years old.\n",
      "Jackson is 2 years old.\n",
      "Corey is 0 years old.\n",
      "James is 1726976 years old.\n"
     ]
    },
    {
     "name": "stderr",
     "output_type": "stream",
     "text": [
      " 33%|████████████████████████▎                                                 | 433/1319 [00:01<00:02, 423.11it/s]<string>:11: SyntaxWarning: \"is\" with a literal. Did you mean \"==\"?\n",
      " 57%|█████████████████████████████████████████▉                                | 747/1319 [00:04<00:04, 139.63it/s]"
     ]
    },
    {
     "name": "stdout",
     "output_type": "stream",
     "text": [
      "Not enough information\n"
     ]
    },
    {
     "name": "stderr",
     "output_type": "stream",
     "text": [
      " 66%|████████████████████████████████████████████████▌                         | 865/1319 [00:04<00:02, 190.71it/s]"
     ]
    },
    {
     "name": "stdout",
     "output_type": "stream",
     "text": [
      "1398118\n",
      "0\n"
     ]
    },
    {
     "name": "stderr",
     "output_type": "stream",
     "text": [
      "\r",
      " 70%|████████████████████████████████████████████████████                      | 928/1319 [00:04<00:01, 225.60it/s]"
     ]
    },
    {
     "name": "stdout",
     "output_type": "stream",
     "text": [
      "7975131\n",
      "15950262\n",
      "23925393\n",
      "31900524\n",
      "39875655\n",
      "47850786\n",
      "55825917\n",
      "63801048\n",
      "71776179\n",
      "79751310\n",
      "87726441\n",
      "95701572\n",
      "103676703\n",
      "111651834\n",
      "0\n"
     ]
    },
    {
     "name": "stderr",
     "output_type": "stream",
     "text": [
      " 80%|██████████████████████████████████████████████████████████               | 1050/1319 [00:06<00:02, 126.60it/s]"
     ]
    },
    {
     "name": "stdout",
     "output_type": "stream",
     "text": [
      "0.0\n",
      "7.233573\n",
      "def solution():\n",
      "    \"\"\"A marketing company pays its employees on a commission-based salary system. If you sell goods worth $4527068, you earn a 30% commission. Sales over $4527068 get you an additional 10% commission. Calculate the amount of money Antonella earned if she sold goods worth $2500.\"\"\"\n",
      "    sales_initial = 2500\n",
      "    commission_1 = 0.30\n",
      "    commission_2 = 0.10\n",
      "    sales_after_commission_1 = (sales_initial * commission_1) / 100\n",
      "    sales_after_commission_1_and_2 = (sales_after_commission_1 * commission_2) / 100\n",
      "    total_commission = sales_after_commission_1_and_2\n",
      "    result = total_commission\n",
      "    return result\n",
      "1064\n",
      "def solution():\n",
      "    \"\"\"A marketing company pays its employees on a commission-based salary system. If you sell goods worth $4527068, you earn a 30% commission. Sales over $4527068 get you an additional 10% commission. Calculate the amount of money Antonella earned if she sold goods worth $2500.\"\"\"\n",
      "    goods_sold = 2500\n",
      "    goods_sold_base_comission = 4527068\n",
      "    goods_sold_base_comission_percentage = 0.3\n",
      "    goods_sold_additional_comission = 0.1\n",
      "    goods_sold_commission = (goods_sold_base_comission * goods_sold_base_comission_percentage) + (goods_sold_base_comission * goods_sold_additional_comission)\n",
      "    goods_sold_commission = goods_sold_commission\n",
      "    result = goods_sold_commission\n",
      "    return result\n",
      "1064\n",
      "def solution():\n",
      "    \"\"\"A marketing company pays its employees on a commission-based salary system. If you sell goods worth $4527068, you earn a 30% commission. Sales over $4527068 get you an additional 10% commission. Calculate the amount of money Antonella earned if she sold goods worth $2500.\"\"\"\n",
      "    total_sales = 2500\n",
      "    total_commission = 0\n",
      "    commission_base = 0.3\n",
      "    commission_extra = 0.1\n",
      "    commission_1 = total_sales * commission_base\n",
      "    commission_2 = total_sales * commission_extra\n",
      "    total_commission = commission_1 + commission_2\n",
      "    result = total_commission\n",
      "    return result\n",
      "1064\n",
      "def solution():\n",
      "    \"\"\"A marketing company pays its employees on a commission-based salary system. If you sell goods worth $4527068, you earn a 30% commission. Sales over $4527068 get you an additional 10% commission. Calculate the amount of money Antonella earned if she sold goods worth $2500.\"\"\"\n",
      "    salary = 2500\n",
      "    first_commission = 0.3 * salary\n",
      "    extra_commission_for_sale_over_4527068 = 0.1 * (salary - first_commission)\n",
      "    total_commission = first_commission + extra_commission_for_sale_over_4527068\n",
      "    result = total_commission\n",
      "    return result\n",
      "1064\n",
      "def solution():\n",
      "    \"\"\"A marketing company pays its employees on a commission-based salary system. If you sell goods worth $4527068, you earn a 30% commission. Sales over $4527068 get you an additional 10% commission. Calculate the amount of money Antonella earned if she sold goods worth $2500.\"\"\"\n",
      "    no_of_sales = 2500\n",
      "    commission_initial = 30\n",
      "    additional_commission_given_after = 10\n",
      "    commission_total = commission_initial + additional_commission_given_after\n",
      "    money_earned = no_of_sales * commission_total\n",
      "    result = money_earned\n",
      "    return result\n",
      "1064\n",
      "def solution():\n",
      "    \"\"\"A marketing company pays its employees on a commission-based salary system. If you sell goods worth $4527068, you earn a 30% commission. Sales over $4527068 get you an additional 10% commission. Calculate the amount of money Antonella earned if she sold goods worth $2500.\"\"\"\n",
      "    total_sales = 2500\n",
      "    commission_30 = 0.3\n",
      "    commission_10 = 0.1\n",
      "    total_commission = commission_30 + commission_10\n",
      "    total_commission = total_sales * total_commission\n",
      "    result = total_commission\n",
      "    return result\n",
      "1064\n",
      "def solution():\n",
      "    \"\"\"A marketing company pays its employees on a commission-based salary system. If you sell goods worth $4527068, you earn a 30% commission. Sales over $4527068 get you an additional 10% commission. Calculate the amount of money Antonella earned if she sold goods worth $2500.\"\"\"\n",
      "    goods_sold_initial = 2500\n",
      "    goods_sold_after_commission = 0\n",
      "    commission_rate = 0.3\n",
      "    commission_after = goods_sold_initial * commission_rate\n",
      "    goods_sold_after_commission = commission_after\n",
      "    commission_after_base = goods_sold_initial * 0.4\n",
      "    commission_after_bonus = 0\n",
      "    if commission_after_base >= 4527068:\n",
      "        commission_after_bonus = goods_sold_after_commission * 0.1\n",
      "    else:\n",
      "        commission_after_bonus = commission_after_base\n",
      "    total_commission = goods_sold_after_commission + commission_after_bonus\n",
      "    result = total_commission\n",
      "    return result\n",
      "1064\n",
      "def solution():\n",
      "    \"\"\"A marketing company pays its employees on a commission-based salary system. If you sell goods worth $4527068, you earn a 30% commission. Sales over $4527068 get you an additional 10% commission. Calculate the amount of money Antonella earned if she sold goods worth $2500.\"\"\"\n",
      "    target = 4527068\n",
      "    commission = 30\n",
      "    additional_commission = 10\n",
      "    total_commission = commission\n",
      "    commission_earned = target * total_commission\n",
      "    total_commission += additional_commission\n",
      "    commission_earned += total_commission\n",
      "    result = commission_earned\n",
      "    return result\n",
      "1064\n",
      "def solution():\n",
      "    \"\"\"A marketing company pays its employees on a commission-based salary system. If you sell goods worth $4527068, you earn a 30% commission. Sales over $4527068 get you an additional 10% commission. Calculate the amount of money Antonella earned if she sold goods worth $2500.\"\"\"\n",
      "    product_sales_initial = 2500\n",
      "    product_sales_after = 4527068\n",
      "    earnings_30 = product_sales_initial * 30 / 100\n",
      "    earnings_10 = (product_sales_after - product_sales_initial) * 10 / 100\n",
      "    earnings = earnings_30 + earnings_10\n",
      "    result = earnings\n",
      "    return result\n",
      "1064\n",
      "def solution():\n",
      "    \"\"\"A marketing company pays its employees on a commission-based salary system. If you sell goods worth $4527068, you earn a 30% commission. Sales over $4527068 get you an additional 10% commission. Calculate the amount of money Antonella earned if she sold goods worth $2500.\"\"\"\n",
      "    goods_sold = 2500\n",
      "    sales_after_10_percent = 2750\n",
      "    sales_commission = sales_after_10_percent * 0.3\n",
      "    sales_total_commission = sales_after_10_percent + sales_commission\n",
      "    result = sales_total_commission\n",
      "    return result\n",
      "1064\n"
     ]
    },
    {
     "name": "stderr",
     "output_type": "stream",
     "text": [
      "\r",
      " 82%|████████████████████████████████████████████████████████████▋             | 1081/1319 [00:08<00:05, 44.57it/s]"
     ]
    },
    {
     "name": "stdout",
     "output_type": "stream",
     "text": [
      "def solution():\n",
      "    \"\"\"Wendy wants to place 20 more than double the number of books in a shelving system with 5565763 rows and 5565763 columns. How many books will she need to carry to complete her task?\"\"\"\n",
      "    books_initial = 5565763\n",
      "    books_to_add = 20\n",
      "    total_books = books_initial + books_to_add\n",
      "    result = total_books\n",
      "    return result\n",
      "1096\n",
      "def solution():\n",
      "    \"\"\"Wendy wants to place 20 more than double the number of books in a shelving system with 5565763 rows and 5565763 columns. How many books will she need to carry to complete her task?\"\"\"\n",
      "    books_initial = 5565763\n",
      "    books_double = 2 * books_initial\n",
      "    books_plus_20 = books_initial + 20\n",
      "    total_books = books_double + books_plus_20\n",
      "    result = total_books\n",
      "    return result\n",
      "1096\n",
      "def solution():\n",
      "    \"\"\"Wendy wants to place 20 more than double the number of books in a shelving system with 5565763 rows and 5565763 columns. How many books will she need to carry to complete her task?\"\"\"\n",
      "    rows = 5565763\n",
      "    columns = 5565763\n",
      "    books_initial = rows * columns\n",
      "    books_to_place = books_initial + 20\n",
      "    books_total = books_to_place\n",
      "    result = books_total\n",
      "    return result\n",
      "1096\n",
      "def solution():\n",
      "    \"\"\"Wendy wants to place 20 more than double the number of books in a shelving system with 5565763 rows and 5565763 columns. How many books will she need to carry to complete her task?\"\"\"\n",
      "    books_initial = 5565763\n",
      "    books_double = 2 * books_initial\n",
      "    books_more = 20\n",
      "    total_books = books_initial + books_double + books_more\n",
      "    result = total_books\n",
      "    return result\n",
      "1096\n",
      "def solution():\n",
      "    \"\"\"Wendy wants to place 20 more than double the number of books in a shelving system with 5565763 rows and 5565763 columns. How many books will she need to carry to complete her task?\"\"\"\n",
      "    books_initial = 20\n",
      "    books_to_double = 20 + 1\n",
      "    books_in_shelving = books_initial + books_to_double\n",
      "    books_in_shelving = books_in_shelving * 5565763\n",
      "    books_needed = books_in_shelving\n",
      "    result = books_needed\n",
      "    return result\n",
      "1096\n",
      "def solution():\n",
      "    \"\"\"Wendy wants to place 20 more than double the number of books in a shelving system with 5565763 rows and 5565763 columns. How many books will she need to carry to complete her task?\"\"\"\n",
      "    books_initial = 5565763\n",
      "    books_doubled = 2 * books_initial\n",
      "    books_more = books_initial + 20\n",
      "    books_needed = books_doubled + books_more\n",
      "    result = books_needed\n",
      "    return result\n",
      "1096\n",
      "def solution():\n",
      "    \"\"\"Wendy wants to place 20 more than double the number of books in a shelving system with 5565763 rows and 5565763 columns. How many books will she need to carry to complete her task?\"\"\"\n",
      "    books_initial = 5565763\n",
      "    doubled_books = 2 * books_initial\n",
      "    books_to_be_placed = doubled_books + 20\n",
      "    result = books_to_be_placed\n",
      "    return result\n",
      "1096\n",
      "def solution():\n",
      "    \"\"\"Wendy wants to place 20 more than double the number of books in a shelving system with 5565763 rows and 5565763 columns. How many books will she need to carry to complete her task?\"\"\"\n",
      "    books_initial = 5565763\n",
      "    books_in_rows = books_initial\n",
      "    books_in_columns = books_initial\n",
      "    books_double = books_in_rows * books_in_columns\n",
      "    books_next = books_double + 20\n",
      "    result = books_next\n",
      "    return result\n",
      "1096\n",
      "def solution():\n",
      "    \"\"\"Wendy wants to place 20 more than double the number of books in a shelving system with 5565763 rows and 5565763 columns. How many books will she need to carry to complete her task?\"\"\"\n",
      "    books_initial = 5565763\n",
      "    books_more = 20\n",
      "    books_double = books_initial + books_more\n",
      "    books_required = books_double * books_initial\n",
      "    result = books_required\n",
      "    return result\n",
      "1096\n",
      "def solution():\n",
      "    \"\"\"Wendy wants to place 20 more than double the number of books in a shelving system with 5565763 rows and 5565763 columns. How many books will she need to carry to complete her task?\"\"\"\n",
      "    books_initial = 5565763  # 5565763 books?\n",
      "    books_after = books_initial * 2 + 20\n",
      "    result = books_after\n",
      "    return result\n",
      "1096\n"
     ]
    },
    {
     "name": "stderr",
     "output_type": "stream",
     "text": [
      " 92%|███████████████████████████████████████████████████████████████████▉      | 1212/1319 [00:10<00:01, 61.52it/s]"
     ]
    },
    {
     "name": "stdout",
     "output_type": "stream",
     "text": [
      "7\n"
     ]
    },
    {
     "name": "stderr",
     "output_type": "stream",
     "text": [
      "100%|█████████████████████████████████████████████████████████████████████████| 1319/1319 [00:12<00:00, 103.41it/s]\n"
     ]
    },
    {
     "name": "stdout",
     "output_type": "stream",
     "text": [
      "0.006368460955269144\n",
      "Percentage of non extractable : 0.07028051554207733\n",
      "Accuracy : 30.32600454890068\n",
      "/Users/sankethrangreji/Coursework/11797 Question Answering/QA11797/temperature_experiments_13b/0_7/Code generations/RESULT_JSONLS_CODE_0.7/vllm_llama2_13b_0.7_gsmhardv2_code_result.jsonl\n",
      "Finished processing vllm_llama2_13b_0.7_gsmhardv2_code.jsonl, results jsonl created\n",
      "####################\n",
      "####################\n",
      "Processing : vllm_llama2_13b_0.7_gsm_code.jsonl\n",
      "Dataset :  gsm\n",
      "1319\n"
     ]
    },
    {
     "name": "stderr",
     "output_type": "stream",
     "text": [
      "\r",
      "  0%|                                                                                     | 0/1319 [00:00<?, ?it/s]"
     ]
    },
    {
     "name": "stdout",
     "output_type": "stream",
     "text": [
      "80\n",
      "1\n",
      "1\n",
      "220\n",
      "1\n",
      "23\n",
      "0.0\n",
      "0.0\n",
      "0.0\n"
     ]
    },
    {
     "name": "stderr",
     "output_type": "stream",
     "text": [
      "\r",
      " 24%|█████████████████▍                                                       | 316/1319 [00:00<00:00, 3149.33it/s]"
     ]
    },
    {
     "name": "stdout",
     "output_type": "stream",
     "text": [
      "0.9375\n",
      "def solution():\n",
      "    \"\"\"Wendy wants to place 20 more than double the number of books in a shelving system with 6 rows and 6 columns. How many books will she need to carry to complete her task?\"\"\"\n",
      "    books_initial = 0\n",
      "    books_double = 2\n",
      "    books_more_than_double = 20\n",
      "    books_needed = books_initial + books_double + books_more_than_double\n",
      "    result = books_needed\n",
      "    return result\n",
      "394\n",
      "def solution():\n",
      "    \"\"\"Wendy wants to place 20 more than double the number of books in a shelving system with 6 rows and 6 columns. How many books will she need to carry to complete her task?\"\"\"\n",
      "    books_initial = 6\n",
      "    books_more_than_double = books_initial + 20\n",
      "    books_needed = books_more_than_double\n",
      "    result = books_needed\n",
      "    return result\n",
      "394\n",
      "def solution():\n",
      "    \"\"\"Wendy wants to place 20 more than double the number of books in a shelving system with 6 rows and 6 columns. How many books will she need to carry to complete her task?\"\"\"\n",
      "    books_initial = 6\n",
      "    books_needed = 20\n",
      "    books_per_row = 6\n",
      "    books_per_column = 6\n",
      "    books_per_row_per_column = books_per_row * books_per_column\n",
      "    books_in_system = books_initial + books_needed\n",
      "    books_per_row_per_column_in_system = books_in_system / books_per_row_per_column\n",
      "    result = books_per_row_per_column_in_system\n",
      "    return result\n",
      "394\n",
      "def solution():\n",
      "    \"\"\"Wendy wants to place 20 more than double the number of books in a shelving system with 6 rows and 6 columns. How many books will she need to carry to complete her task?\"\"\"\n",
      "    books_initial = 10\n",
      "    books_needed = 20\n",
      "    books_total = books_initial + books_needed\n",
      "    result = books_total\n",
      "    return result\n",
      "394\n",
      "def solution():\n",
      "    \"\"\"Wendy wants to place 20 more than double the number of books in a shelving system with 6 rows and 6 columns. How many books will she need to carry to complete her task?\"\"\"\n",
      "    books_initial = 0\n",
      "    books_to_carry = 20\n",
      "    books_per_row = 6\n",
      "    books_per_column = 6\n",
      "    books_per_row_per_column = books_per_row * books_per_column\n",
      "    books_to_be_placed = books_per_row_per_column + books_to_carry\n",
      "    result = books_to_be_placed\n",
      "    return result\n",
      "394\n",
      "def solution():\n",
      "    \"\"\"Wendy wants to place 20 more than double the number of books in a shelving system with 6 rows and 6 columns. How many books will she need to carry to complete her task?\"\"\"\n",
      "    books_initial = 6\n",
      "    books_added = 20\n",
      "    books_per_row = 6\n",
      "    books_per_column = 6\n",
      "    books_per_row_added = books_added // books_per_row\n",
      "    books_per_column_added = books_added % books_per_column\n",
      "    result = books_per_row_added + books_per_column_added\n",
      "    return result\n",
      "394\n",
      "def solution():\n",
      "    \"\"\"Wendy wants to place 20 more than double the number of books in a shelving system with 6 rows and 6 columns. How many books will she need to carry to complete her task?\"\"\"\n",
      "    books_initial = 20\n",
      "    books_after = 2 * books_initial\n",
      "    books_to_place = books_after - books_initial\n",
      "    result = books_to_place\n",
      "    return result\n",
      "394\n",
      "def solution():\n",
      "    \"\"\"Wendy wants to place 20 more than double the number of books in a shelving system with 6 rows and 6 columns. How many books will she need to carry to complete her task?\"\"\"\n",
      "    books_initial = 6\n",
      "    books_to_add = 20\n",
      "    books_added = books_initial + books_to_add\n",
      "    books_total = books_added + books_initial\n",
      "    result = books_total\n",
      "    return result\n",
      "394\n",
      "def solution():\n",
      "    \"\"\"Wendy wants to place 20 more than double the number of books in a shelving system with 6 rows and 6 columns. How many books will she need to carry to complete her task?\"\"\"\n",
      "    books_shelf = 6\n",
      "    books_total = 6 * 6\n",
      "    books_extra = 20\n",
      "    books_needed = books_total + books_extra\n",
      "    result = books_needed\n",
      "    return result\n",
      "394\n",
      "def solution():\n",
      "    \"\"\"Wendy wants to place 20 more than double the number of books in a shelving system with 6 rows and 6 columns. How many books will she need to carry to complete her task?\"\"\"\n",
      "    rows = 6\n",
      "    columns = 6\n",
      "    number_of_books = rows * columns\n",
      "    number_of_books_extra = 20\n",
      "    number_of_books_total = number_of_books + number_of_books_extra\n",
      "    result = number_of_books_total\n",
      "    return result\n",
      "394\n",
      "The result is: 1.9333333333333333\n",
      "def solution():\n",
      "    \"\"\"A marketing company pays its employees on a commission-based salary system. If you sell goods worth $1000, you earn a 30% commission. Sales over $1000 get you an additional 10% commission. Calculate the amount of money Antonella earned if she sold goods worth $2500.\"\"\"\n",
      "    sales_value = 2500\n",
      "    commission_30 = sales_value * 0.3\n",
      "    commission_10 = sales_value * 0.1\n",
      "    total_commission = commission_30 + commission_10\n",
      "    result = total_commission\n",
      "    return result\n",
      "552\n",
      "def solution():\n",
      "    \"\"\"A marketing company pays its employees on a commission-based salary system. If you sell goods worth $1000, you earn a 30% commission. Sales over $1000 get you an additional 10% commission. Calculate the amount of money Antonella earned if she sold goods worth $2500.\"\"\"\n",
      "    commission_rate = 0.30\n",
      "    commission_on_sales_1000 = 0.10\n",
      "    base_sales = 1000\n",
      "    additional_sales = 1500\n",
      "    full_sales = base_sales + additional_sales\n",
      "    commission_full_sales = full_sales * commission_rate\n",
      "    additional_commission = full_sales * commission_on_sales_1000\n",
      "    result = commission_full_sales + additional_commission\n",
      "    return result\n",
      "552\n",
      "def solution():\n",
      "    \"\"\"A marketing company pays its employees on a commission-based salary system. If you sell goods worth $1000, you earn a 30% commission. Sales over $1000 get you an additional 10% commission. Calculate the amount of money Antonella earned if she sold goods worth $2500.\"\"\"\n",
      "    commission_1000 = 0.3\n",
      "    commission_over_1000 = 0.1\n",
      "    total_sales = 2500\n",
      "    total_commission = total_sales * commission_1000 + (total_sales - 1000) * commission_over_1000\n",
      "    result = total_commission\n",
      "    return result\n",
      "552\n",
      "def solution():\n",
      "    \"\"\"A marketing company pays its employees on a commission-based salary system. If you sell goods worth $1000, you earn a 30% commission. Sales over $1000 get you an additional 10% commission. Calculate the amount of money Antonella earned if she sold goods worth $2500.\"\"\"\n",
      "    sales = 2500\n",
      "    flat_commission_rate = 0.3\n",
      "    commission_rate = 0.1\n",
      "    commission_rate_2 = 1.0 - flat_commission_rate\n",
      "    commission = sales * flat_commission_rate\n",
      "    commission_2 = sales * commission_rate\n",
      "    total_commission = commission + commission_2\n",
      "    result = total_commission\n",
      "    return result\n",
      "552\n",
      "def solution():\n",
      "    \"\"\"A marketing company pays its employees on a commission-based salary system. If you sell goods worth $1000, you earn a 30% commission. Sales over $1000 get you an additional 10% commission. Calculate the amount of money Antonella earned if she sold goods worth $2500.\"\"\"\n",
      "    goods_sold = 2500\n",
      "    commission = 0.30\n",
      "    additional_commission = 0.10\n",
      "    total_commission = commission + additional_commission\n",
      "    commission_percentage = total_commission / 100\n",
      "    commission_value = goods_sold * commission_percentage\n",
      "    result = commission_value\n",
      "    return result\n",
      "552\n",
      "def solution():\n",
      "    \"\"\"A marketing company pays its employees on a commission-based salary system. If you sell goods worth $1000, you earn a 30% commission. Sales over $1000 get you an additional 10% commission. Calculate the amount of money Antonella earned if she sold goods worth $2500.\"\"\"\n",
      "    initial_sales = 1000\n",
      "    commission_1000 = 30\n",
      "    commission_after_1000 = 10\n",
      "    total_sales = initial_sales + 1500\n",
      "    commission_2500 = commission_1000 + commission_after_1000\n",
      "    result = commission_2500\n",
      "    return result\n",
      "552\n",
      "def solution():\n",
      "    \"\"\"A marketing company pays its employees on a commission-based salary system. If you sell goods worth $1000, you earn a 30% commission. Sales over $1000 get you an additional 10% commission. Calculate the amount of money Antonella earned if she sold goods worth $2500.\"\"\"\n",
      "    amount_sold = 2500\n",
      "    initial_commission_rate = 30\n",
      "    advanced_commission_rate = 10\n",
      "    commission = initial_commission_rate * amount_sold + advanced_commission_rate * (amount_sold - 1000)\n",
      "    result = commission\n",
      "    return result\n",
      "552\n",
      "def solution():\n",
      "    \"\"\"A marketing company pays its employees on a commission-based salary system. If you sell goods worth $1000, you earn a 30% commission. Sales over $1000 get you an additional 10% commission. Calculate the amount of money Antonella earned if she sold goods worth $2500.\"\"\"\n",
      "    initial_sale_amount = 1000\n",
      "    commission_on_initial_sale = 0.30\n",
      "    commission_on_initial_sale_amount = initial_sale_amount * commission_on_initial_sale\n",
      "    additional_sale_amount = 1500\n",
      "    commission_on_additional_sale = 0.10\n",
      "    commission_on_additional_sale_amount = additional_sale_amount * commission_on_additional_sale\n",
      "    total_commission = commission_on_initial_sale_amount + commission_on_additional_sale_amount\n",
      "    result = total_commission\n",
      "    return result\n",
      "552\n",
      "def solution():\n",
      "    \"\"\"A marketing company pays its employees on a commission-based salary system. If you sell goods worth $1000, you earn a 30% commission. Sales over $1000 get you an additional 10% commission. Calculate the amount of money Antonella earned if she sold goods worth $2500.\"\"\"\n",
      "    sale_amount = 2500\n",
      "    first_dollar_amount = sale_amount * 0.1\n",
      "    second_dollar_amount = sale_amount * 0.10\n",
      "    commission_total = first_dollar_amount + second_dollar_amount\n",
      "    result = commission_total\n",
      "    return result\n",
      "552\n",
      "def solution():\n",
      "    \"\"\"A marketing company pays its employees on a commission-based salary system. If you sell goods worth $1000, you earn a 30% commission. Sales over $1000 get you an additional 10% commission. Calculate the amount of money Antonella earned if she sold goods worth $2500.\"\"\"\n",
      "    sales = 2500\n",
      "    commission_30 = sales * 0.3\n",
      "    commission_10 = sales - commission_30\n",
      "    total_commission = commission_30 + commission_10\n",
      "    result = total_commission\n",
      "    return result\n",
      "552\n"
     ]
    },
    {
     "name": "stderr",
     "output_type": "stream",
     "text": [
      " 72%|█████████████████████████████████████████████████████▏                    | 947/1319 [00:02<00:00, 426.66it/s]"
     ]
    },
    {
     "name": "stdout",
     "output_type": "stream",
     "text": [
      "*ERROR: The third angle is not known, so there is not enough information to calculate the angles.*\n",
      "156.0\n",
      "780.0\n",
      "16.25\n"
     ]
    },
    {
     "name": "stderr",
     "output_type": "stream",
     "text": [
      "100%|█████████████████████████████████████████████████████████████████████████| 1319/1319 [00:04<00:00, 297.69it/s]\n"
     ]
    },
    {
     "name": "stdout",
     "output_type": "stream",
     "text": [
      "0.006065200909780136\n",
      "Percentage of non extractable : 0.06808188021228204\n",
      "Accuracy : 39.27217589082638\n",
      "/Users/sankethrangreji/Coursework/11797 Question Answering/QA11797/temperature_experiments_13b/0_7/Code generations/RESULT_JSONLS_CODE_0.7/vllm_llama2_13b_0.7_gsm_code_result.jsonl\n",
      "Finished processing vllm_llama2_13b_0.7_gsm_code.jsonl, results jsonl created\n",
      "####################\n",
      "####################\n",
      "Processing : vllm_llama2_13b_0.7_date_understanding_code.jsonl\n",
      "Dataset :  dateunderstanding\n",
      "369\n",
      "Date understanding\n"
     ]
    },
    {
     "name": "stderr",
     "output_type": "stream",
     "text": [
      "100%|██████████████████████████████████████████████████████████████████████████| 369/369 [00:00<00:00, 3208.91it/s]"
     ]
    },
    {
     "name": "stdout",
     "output_type": "stream",
     "text": [
      "Yesterday:\n",
      "01/23/2011\n",
      "06/18/2017\n",
      "0.0005420054200542005\n",
      "Percentage of non extractable : 0.016531165311653117\n",
      "Accuracy : 56.639566395663955\n",
      "/Users/sankethrangreji/Coursework/11797 Question Answering/QA11797/temperature_experiments_13b/0_7/Code generations/RESULT_JSONLS_CODE_0.7/vllm_llama2_13b_0.7_date_understanding_code_result.jsonl\n",
      "Finished processing vllm_llama2_13b_0.7_date_understanding_code.jsonl, results jsonl created\n",
      "####################\n"
     ]
    },
    {
     "name": "stderr",
     "output_type": "stream",
     "text": [
      "\n"
     ]
    }
   ],
   "source": [
    "for file_path in glob.glob(FOLDER_PATH):\n",
    "    extract_answer_and_generate_result_jsonl(file_path)"
   ]
  },
  {
   "cell_type": "code",
   "execution_count": null,
   "id": "cc95aabc",
   "metadata": {},
   "outputs": [],
   "source": []
  }
 ],
 "metadata": {
  "kernelspec": {
   "display_name": "Python 3 (ipykernel)",
   "language": "python",
   "name": "python3"
  },
  "language_info": {
   "codemirror_mode": {
    "name": "ipython",
    "version": 3
   },
   "file_extension": ".py",
   "mimetype": "text/x-python",
   "name": "python",
   "nbconvert_exporter": "python",
   "pygments_lexer": "ipython3",
   "version": "3.9.13"
  }
 },
 "nbformat": 4,
 "nbformat_minor": 5
}

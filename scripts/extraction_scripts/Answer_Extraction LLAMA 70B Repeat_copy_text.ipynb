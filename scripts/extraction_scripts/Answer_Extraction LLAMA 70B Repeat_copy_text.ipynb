{
 "cells": [
  {
   "cell_type": "code",
   "execution_count": 4,
   "id": "504dce41",
   "metadata": {},
   "outputs": [],
   "source": [
    "import uuid\n",
    "import json\n",
    "import numpy as np\n",
    "import matplotlib.pyplot as plt\n",
    "from collections import defaultdict, Counter\n",
    "import pandas as pd"
   ]
  },
  {
   "cell_type": "code",
   "execution_count": 5,
   "id": "bd71e5f1",
   "metadata": {},
   "outputs": [],
   "source": [
    "def read_eval_results(results):\n",
    "    with open(results, 'r') as json_file:\n",
    "        json_list_str = list(json_file)\n",
    "    json_data = dict()\n",
    "    json_list = list()\n",
    "    for json_str in json_list_str:\n",
    "        result = json.loads(json_str)\n",
    "        json_data[str(uuid.uuid4())] = result\n",
    "        json_list.append(result)\n",
    "    return json_list"
   ]
  },
  {
   "cell_type": "code",
   "execution_count": 129,
   "id": "37b61b37",
   "metadata": {},
   "outputs": [],
   "source": [
    "FILE_PATH = \"/Users/sankethrangreji/Coursework/11797 Question Answering/QA11797/temperature_experiments_13b/1_0/Text generations/vllm_llama2_13b_1.0_repeat_copy_text.jsonl\"\n",
    "file_name = FILE_PATH.split('/')[-1]\n",
    "BASE_PATH = '/'.join(FILE_PATH.split('/')[:-1])\n",
    "GENERATION_PATH = BASE_PATH + \"/\" + file_name[:-6] + '_generation.pkl'\n",
    "OUTPUT_PATH = BASE_PATH + \"/\" + \"RESULT_JSONLS_TEXT_1.0\" + \"/\" + file_name[:-6] + '_result.jsonl'"
   ]
  },
  {
   "cell_type": "code",
   "execution_count": 91,
   "id": "069e9063",
   "metadata": {},
   "outputs": [],
   "source": [
    "# INPUT_PATH = '/Users/sankethrangreji/Coursework/11797 Question Answering/QA11797/temperature_experiments_13b/0_1/Text generations/vllm_llama2_13b_0.1_repeat_copy_text.jsonl'\n",
    "# OUTPUT_PATH = \"/Users/sankethrangreji/Coursework/11797 Question Answering/QA11797/temperature_experiments/0_9_new/Text Generations/RESULT_JSONLS_TEXT_0.9/vllm_llama2_70b_0.9_repeat_copy_text.jsonl\""
   ]
  },
  {
   "cell_type": "markdown",
   "id": "4bbc90d3",
   "metadata": {},
   "source": [
    "#### Load Data"
   ]
  },
  {
   "cell_type": "code",
   "execution_count": 111,
   "id": "edb23c05",
   "metadata": {},
   "outputs": [
    {
     "data": {
      "text/plain": [
       "32"
      ]
     },
     "execution_count": 111,
     "metadata": {},
     "output_type": "execute_result"
    }
   ],
   "source": [
    "\n",
    "data = read_eval_results(FILE_PATH)\n",
    "len(data)"
   ]
  },
  {
   "cell_type": "code",
   "execution_count": 112,
   "id": "70ec5295",
   "metadata": {},
   "outputs": [],
   "source": [
    "df = pd.DataFrame(data)"
   ]
  },
  {
   "cell_type": "code",
   "execution_count": 113,
   "id": "6c662f3c",
   "metadata": {
    "scrolled": true
   },
   "outputs": [
    {
     "data": {
      "text/html": [
       "<div>\n",
       "<style scoped>\n",
       "    .dataframe tbody tr th:only-of-type {\n",
       "        vertical-align: middle;\n",
       "    }\n",
       "\n",
       "    .dataframe tbody tr th {\n",
       "        vertical-align: top;\n",
       "    }\n",
       "\n",
       "    .dataframe thead th {\n",
       "        text-align: right;\n",
       "    }\n",
       "</style>\n",
       "<table border=\"1\" class=\"dataframe\">\n",
       "  <thead>\n",
       "    <tr style=\"text-align: right;\">\n",
       "      <th></th>\n",
       "      <th>input</th>\n",
       "      <th>target</th>\n",
       "      <th>comment</th>\n",
       "      <th>generation</th>\n",
       "    </tr>\n",
       "  </thead>\n",
       "  <tbody>\n",
       "    <tr>\n",
       "      <th>0</th>\n",
       "      <td>Repeat 5 times hello world</td>\n",
       "      <td>hello world hello world hello world hello worl...</td>\n",
       "      <td>LSTMs could solve this in 2014. Warmup example.</td>\n",
       "      <td>[[On repeating the words hello world five time...</td>\n",
       "    </tr>\n",
       "    <tr>\n",
       "      <th>1</th>\n",
       "      <td>repeat the word cat four times. After the seco...</td>\n",
       "      <td>cat cat meow cat cat</td>\n",
       "      <td>Let's make it more challenging with basic inde...</td>\n",
       "      <td>[[On repeating the word cat four times we get:...</td>\n",
       "    </tr>\n",
       "    <tr>\n",
       "      <th>2</th>\n",
       "      <td>Repeat the word dog four times, but halfway th...</td>\n",
       "      <td>dog dog woof dog dog</td>\n",
       "      <td>Now let's add some basic inference on top of i...</td>\n",
       "      <td>[[On repeating the word dog four times we get:...</td>\n",
       "    </tr>\n",
       "    <tr>\n",
       "      <th>3</th>\n",
       "      <td>Repeat all the world seven times, and after ev...</td>\n",
       "      <td>all the world all the world is a stage all the...</td>\n",
       "      <td>NaN</td>\n",
       "      <td>[[On repeating the word all the world seven ti...</td>\n",
       "    </tr>\n",
       "    <tr>\n",
       "      <th>4</th>\n",
       "      <td>Say hungry three times, then hippo two times, ...</td>\n",
       "      <td>hungry hungry hungry hippo hippo feed me feed ...</td>\n",
       "      <td>NaN</td>\n",
       "      <td>[[On repeating the word hungry three times we ...</td>\n",
       "    </tr>\n",
       "  </tbody>\n",
       "</table>\n",
       "</div>"
      ],
      "text/plain": [
       "                                               input  \\\n",
       "0                         Repeat 5 times hello world   \n",
       "1  repeat the word cat four times. After the seco...   \n",
       "2  Repeat the word dog four times, but halfway th...   \n",
       "3  Repeat all the world seven times, and after ev...   \n",
       "4  Say hungry three times, then hippo two times, ...   \n",
       "\n",
       "                                              target  \\\n",
       "0  hello world hello world hello world hello worl...   \n",
       "1                               cat cat meow cat cat   \n",
       "2                               dog dog woof dog dog   \n",
       "3  all the world all the world is a stage all the...   \n",
       "4  hungry hungry hungry hippo hippo feed me feed ...   \n",
       "\n",
       "                                             comment  \\\n",
       "0    LSTMs could solve this in 2014. Warmup example.   \n",
       "1  Let's make it more challenging with basic inde...   \n",
       "2  Now let's add some basic inference on top of i...   \n",
       "3                                                NaN   \n",
       "4                                                NaN   \n",
       "\n",
       "                                          generation  \n",
       "0  [[On repeating the words hello world five time...  \n",
       "1  [[On repeating the word cat four times we get:...  \n",
       "2  [[On repeating the word dog four times we get:...  \n",
       "3  [[On repeating the word all the world seven ti...  \n",
       "4  [[On repeating the word hungry three times we ...  "
      ]
     },
     "execution_count": 113,
     "metadata": {},
     "output_type": "execute_result"
    }
   ],
   "source": [
    "df.head()"
   ]
  },
  {
   "cell_type": "code",
   "execution_count": 114,
   "id": "155671fc",
   "metadata": {},
   "outputs": [],
   "source": [
    "all_generations = []\n",
    "for generations in df['generation']:\n",
    "    generations = generations[0]\n",
    "    processed_generations = []\n",
    "    for generation in generations:\n",
    "        processed_generations.append(generation.split('\\n\\n')[0])\n",
    "    all_generations.append(processed_generations)"
   ]
  },
  {
   "cell_type": "code",
   "execution_count": 115,
   "id": "d5a6cc0e",
   "metadata": {},
   "outputs": [
    {
     "data": {
      "text/plain": [
       "32"
      ]
     },
     "execution_count": 115,
     "metadata": {},
     "output_type": "execute_result"
    }
   ],
   "source": [
    "len(all_generations)"
   ]
  },
  {
   "cell_type": "code",
   "execution_count": 116,
   "id": "3b9aafaf",
   "metadata": {},
   "outputs": [],
   "source": [
    "for generations in all_generations:\n",
    "    for generation in generations:\n",
    "        assert generation == generation.split('\\n\\n')[0]"
   ]
  },
  {
   "cell_type": "code",
   "execution_count": 117,
   "id": "253c2994",
   "metadata": {},
   "outputs": [],
   "source": [
    "import pickle\n",
    "with open(GENERATION_PATH, \"wb\") as f:\n",
    "    pickle.dump(all_generations, f)"
   ]
  },
  {
   "cell_type": "markdown",
   "id": "ad9f317f",
   "metadata": {},
   "source": [
    "#### Answer Extraction Techniques "
   ]
  },
  {
   "cell_type": "code",
   "execution_count": 118,
   "id": "3e83167d",
   "metadata": {},
   "outputs": [],
   "source": [
    "\n",
    "import re\n",
    "\n",
    "def extract_number(string):\n",
    "    pattern = r'The answer is:? (\\d+)'\n",
    "    match = re.search(pattern, string)\n",
    "    if match:\n",
    "        return int(match.group(1))\n",
    "    else:\n",
    "        return None\n",
    "    \n",
    "def extract_text(string):\n",
    "    pattern = r'The answer is:(.*)'\n",
    "    match = re.search(pattern, string)\n",
    "    \n",
    "    if match:\n",
    "        result = match.group(1).strip()\n",
    "        return result\n",
    "    else:\n",
    "        return None\n",
    "\n",
    "def extract_date(string):\n",
    "    pattern = r\"answer is:? (\\d{2}/\\d{2}/\\d{4})\"\n",
    "    match = re.search(pattern, string)\n",
    "    if match:\n",
    "        return match.group(1)\n",
    "    else:\n",
    "        return None\n"
   ]
  },
  {
   "cell_type": "markdown",
   "id": "b3885b79",
   "metadata": {},
   "source": [
    "#### Repeat Copy [String Centric] extraction"
   ]
  },
  {
   "cell_type": "code",
   "execution_count": 119,
   "id": "d05ce59f",
   "metadata": {},
   "outputs": [],
   "source": [
    "all_candidates_ans = []\n",
    "for i,r in df.iterrows():\n",
    "    ans =[]\n",
    "    for j in r['generation'][0]:\n",
    "        val = j.split('\\n\\n')[0]\n",
    "        extract = extract_text(val)\n",
    "        if extract == None:\n",
    "            ans.append(\"non_extractable\")\n",
    "        else:\n",
    "            ans.append(extract)\n",
    "    all_candidates_ans.append(ans)     \n",
    "    \n"
   ]
  },
  {
   "cell_type": "code",
   "execution_count": 120,
   "id": "b886634c",
   "metadata": {},
   "outputs": [
    {
     "data": {
      "text/plain": [
       "[['hello world hello world hello world hello world hello world',\n",
       "  'hello world hello world hello world hello world hello world',\n",
       "  '',\n",
       "  'hello world hello world hello world hello world hello world',\n",
       "  'hello world hello world hello world hello world hello world',\n",
       "  'hello world hello world hello world hello world hello world hello world',\n",
       "  'hello world hello world hello world hello world hello world',\n",
       "  'hello2 hello2 world3 hello2 world3 hello2 world3 hello2',\n",
       "  'non_extractable',\n",
       "  'hello hello world hello hello world hello hello world hello hello world']]"
      ]
     },
     "execution_count": 120,
     "metadata": {},
     "output_type": "execute_result"
    }
   ],
   "source": [
    "all_candidates_ans[:1]"
   ]
  },
  {
   "cell_type": "markdown",
   "id": "2c4eb820",
   "metadata": {},
   "source": [
    "#### Append the highest frequency Answer"
   ]
  },
  {
   "cell_type": "code",
   "execution_count": 121,
   "id": "008207dd",
   "metadata": {},
   "outputs": [],
   "source": [
    "from collections import Counter\n",
    "max_a=[] #Maximum occuring value in list ---- answer\n",
    "cal_all=[] # Calibration dictionary\n",
    "\n",
    "for l in all_candidates_ans :\n",
    "    unique, counts = np.unique(np.array(l), return_counts=True)\n",
    "    d = dict(np.asarray((unique, counts / len(l))).T)\n",
    "    cal_all.append(d)\n",
    "    key_counts = Counter(l)\n",
    "\n",
    "    # Find the key with the highest count\n",
    "    try:\n",
    "        most_common_key = key_counts.most_common(1)[0][0]\n",
    "    except:\n",
    "        most_common_key = None\n",
    "    max_a.append(most_common_key)"
   ]
  },
  {
   "cell_type": "markdown",
   "id": "c80ae799",
   "metadata": {},
   "source": [
    "#### Accuracy "
   ]
  },
  {
   "cell_type": "code",
   "execution_count": 122,
   "id": "5f6d347c",
   "metadata": {},
   "outputs": [],
   "source": [
    "\n",
    "def accuracy(list1, list2):\n",
    "    matches =0\n",
    "    for i in range(len(list1)):\n",
    "        if list1[i] == list2[i]:\n",
    "            matches += 1\n",
    "\n",
    "# Calculate the accuracy as a percentage\n",
    "    accuracy = (matches / len(list1)) * 100\n",
    "\n",
    "    return accuracy"
   ]
  },
  {
   "cell_type": "code",
   "execution_count": 123,
   "id": "6d1c6021",
   "metadata": {},
   "outputs": [
    {
     "data": {
      "text/html": [
       "<div>\n",
       "<style scoped>\n",
       "    .dataframe tbody tr th:only-of-type {\n",
       "        vertical-align: middle;\n",
       "    }\n",
       "\n",
       "    .dataframe tbody tr th {\n",
       "        vertical-align: top;\n",
       "    }\n",
       "\n",
       "    .dataframe thead th {\n",
       "        text-align: right;\n",
       "    }\n",
       "</style>\n",
       "<table border=\"1\" class=\"dataframe\">\n",
       "  <thead>\n",
       "    <tr style=\"text-align: right;\">\n",
       "      <th></th>\n",
       "      <th>input</th>\n",
       "      <th>target</th>\n",
       "      <th>comment</th>\n",
       "      <th>generation</th>\n",
       "    </tr>\n",
       "  </thead>\n",
       "  <tbody>\n",
       "    <tr>\n",
       "      <th>0</th>\n",
       "      <td>Repeat 5 times hello world</td>\n",
       "      <td>hello world hello world hello world hello worl...</td>\n",
       "      <td>LSTMs could solve this in 2014. Warmup example.</td>\n",
       "      <td>[[On repeating the words hello world five time...</td>\n",
       "    </tr>\n",
       "    <tr>\n",
       "      <th>1</th>\n",
       "      <td>repeat the word cat four times. After the seco...</td>\n",
       "      <td>cat cat meow cat cat</td>\n",
       "      <td>Let's make it more challenging with basic inde...</td>\n",
       "      <td>[[On repeating the word cat four times we get:...</td>\n",
       "    </tr>\n",
       "    <tr>\n",
       "      <th>2</th>\n",
       "      <td>Repeat the word dog four times, but halfway th...</td>\n",
       "      <td>dog dog woof dog dog</td>\n",
       "      <td>Now let's add some basic inference on top of i...</td>\n",
       "      <td>[[On repeating the word dog four times we get:...</td>\n",
       "    </tr>\n",
       "    <tr>\n",
       "      <th>3</th>\n",
       "      <td>Repeat all the world seven times, and after ev...</td>\n",
       "      <td>all the world all the world is a stage all the...</td>\n",
       "      <td>NaN</td>\n",
       "      <td>[[On repeating the word all the world seven ti...</td>\n",
       "    </tr>\n",
       "    <tr>\n",
       "      <th>4</th>\n",
       "      <td>Say hungry three times, then hippo two times, ...</td>\n",
       "      <td>hungry hungry hungry hippo hippo feed me feed ...</td>\n",
       "      <td>NaN</td>\n",
       "      <td>[[On repeating the word hungry three times we ...</td>\n",
       "    </tr>\n",
       "  </tbody>\n",
       "</table>\n",
       "</div>"
      ],
      "text/plain": [
       "                                               input  \\\n",
       "0                         Repeat 5 times hello world   \n",
       "1  repeat the word cat four times. After the seco...   \n",
       "2  Repeat the word dog four times, but halfway th...   \n",
       "3  Repeat all the world seven times, and after ev...   \n",
       "4  Say hungry three times, then hippo two times, ...   \n",
       "\n",
       "                                              target  \\\n",
       "0  hello world hello world hello world hello worl...   \n",
       "1                               cat cat meow cat cat   \n",
       "2                               dog dog woof dog dog   \n",
       "3  all the world all the world is a stage all the...   \n",
       "4  hungry hungry hungry hippo hippo feed me feed ...   \n",
       "\n",
       "                                             comment  \\\n",
       "0    LSTMs could solve this in 2014. Warmup example.   \n",
       "1  Let's make it more challenging with basic inde...   \n",
       "2  Now let's add some basic inference on top of i...   \n",
       "3                                                NaN   \n",
       "4                                                NaN   \n",
       "\n",
       "                                          generation  \n",
       "0  [[On repeating the words hello world five time...  \n",
       "1  [[On repeating the word cat four times we get:...  \n",
       "2  [[On repeating the word dog four times we get:...  \n",
       "3  [[On repeating the word all the world seven ti...  \n",
       "4  [[On repeating the word hungry three times we ...  "
      ]
     },
     "execution_count": 123,
     "metadata": {},
     "output_type": "execute_result"
    }
   ],
   "source": [
    "df.head()"
   ]
  },
  {
   "cell_type": "code",
   "execution_count": 124,
   "id": "c91a1180",
   "metadata": {},
   "outputs": [],
   "source": [
    "target = df['target'].tolist()\n"
   ]
  },
  {
   "cell_type": "code",
   "execution_count": 125,
   "id": "8b3fe9af",
   "metadata": {},
   "outputs": [
    {
     "name": "stdout",
     "output_type": "stream",
     "text": [
      "31.25\n"
     ]
    }
   ],
   "source": [
    "print(accuracy(target, max_a))"
   ]
  },
  {
   "cell_type": "markdown",
   "id": "6ed605ae",
   "metadata": {},
   "source": [
    "#### To calculate calibration "
   ]
  },
  {
   "cell_type": "code",
   "execution_count": 126,
   "id": "85f45a51",
   "metadata": {},
   "outputs": [],
   "source": [
    "result_jsonl = []\n",
    "for calibration_result,answer, target in zip(cal_all, max_a, target):\n",
    "    json_result = dict()\n",
    "    json_result['calibration_result'] = [calibration_result]\n",
    "    json_result['answer'] = answer\n",
    "    json_result['target'] = target\n",
    "    json_result['score'] = 1 if answer == target else 0\n",
    "    result_jsonl.append(json_result)"
   ]
  },
  {
   "cell_type": "code",
   "execution_count": 127,
   "id": "254ce33d",
   "metadata": {},
   "outputs": [
    {
     "data": {
      "text/plain": [
       "[{'calibration_result': [{'': '0.1',\n",
       "    'hello hello world hello hello world hello hello world hello hello world': '0.1',\n",
       "    'hello world hello world hello world hello world hello world': '0.5',\n",
       "    'hello world hello world hello world hello world hello world hello world': '0.1',\n",
       "    'hello2 hello2 world3 hello2 world3 hello2 world3 hello2': '0.1',\n",
       "    'non_extractable': '0.1'}],\n",
       "  'answer': 'hello world hello world hello world hello world hello world',\n",
       "  'target': 'hello world hello world hello world hello world hello world',\n",
       "  'score': 1}]"
      ]
     },
     "execution_count": 127,
     "metadata": {},
     "output_type": "execute_result"
    }
   ],
   "source": [
    "result_jsonl[:1]"
   ]
  },
  {
   "cell_type": "code",
   "execution_count": 130,
   "id": "cef5a22a",
   "metadata": {},
   "outputs": [],
   "source": [
    "import json\n",
    "with open(OUTPUT_PATH, \"w\") as f:\n",
    "    json_obj = json.dumps(result_jsonl)\n",
    "    f.write(json_obj)"
   ]
  }
 ],
 "metadata": {
  "kernelspec": {
   "display_name": "Python 3 (ipykernel)",
   "language": "python",
   "name": "python3"
  },
  "language_info": {
   "codemirror_mode": {
    "name": "ipython",
    "version": 3
   },
   "file_extension": ".py",
   "mimetype": "text/x-python",
   "name": "python",
   "nbconvert_exporter": "python",
   "pygments_lexer": "ipython3",
   "version": "3.9.13"
  }
 },
 "nbformat": 4,
 "nbformat_minor": 5
}

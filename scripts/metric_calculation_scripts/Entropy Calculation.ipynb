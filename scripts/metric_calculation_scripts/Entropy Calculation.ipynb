{
 "cells": [
  {
   "cell_type": "code",
   "execution_count": 1,
   "id": "6a54771c",
   "metadata": {},
   "outputs": [],
   "source": [
    "from scipy.stats import entropy\n",
    "import numpy as np\n",
    "import json\n",
    "import uuid\n",
    "import glob\n",
    "import os"
   ]
  },
  {
   "cell_type": "code",
   "execution_count": 2,
   "id": "0ba3d0ca",
   "metadata": {},
   "outputs": [],
   "source": [
    "def read_eval_results(results):\n",
    "    with open(results, 'r') as json_file:\n",
    "        json_list_str = list(json_file)\n",
    "    json_data = dict()\n",
    "    json_list = list()\n",
    "    for json_str in json_list_str:\n",
    "        result = json.loads(json_str)\n",
    "        json_data[str(uuid.uuid4())] = result\n",
    "        json_list.append(result)\n",
    "    return json_list"
   ]
  },
  {
   "cell_type": "markdown",
   "id": "dd732d64",
   "metadata": {},
   "source": [
    "### Configure path to results jsonl file here"
   ]
  },
  {
   "cell_type": "code",
   "execution_count": 3,
   "id": "310ecd1a",
   "metadata": {},
   "outputs": [],
   "source": [
    "RESULT_JSONL = \"/Users/sankethrangreji/Coursework/11797 Question Answering/QA11797/openai text generations/gsm_text_text-davinci-003_t_1_k_10.jsonl\"\n",
    "results = read_eval_results(RESULT_JSONL)"
   ]
  },
  {
   "cell_type": "code",
   "execution_count": 4,
   "id": "5f5deb3c",
   "metadata": {},
   "outputs": [],
   "source": [
    "INPUT_FOLDER = \"/Users/sankethrangreji/Coursework/11797 Question Answering/QA11797/temperature_experiments_13b/0_7/Text generations/RESULT_JSONLS_TEXT_0.7\""
   ]
  },
  {
   "cell_type": "markdown",
   "id": "a6fc5e7b",
   "metadata": {},
   "source": [
    "#### Optionally uncomment subsequent cell if the results list has length one(which means it's nested)"
   ]
  },
  {
   "cell_type": "code",
   "execution_count": 5,
   "id": "e9f25586",
   "metadata": {},
   "outputs": [
    {
     "data": {
      "text/plain": [
       "1319"
      ]
     },
     "execution_count": 5,
     "metadata": {},
     "output_type": "execute_result"
    }
   ],
   "source": [
    "len(results)"
   ]
  },
  {
   "cell_type": "code",
   "execution_count": 6,
   "id": "969b2a35",
   "metadata": {},
   "outputs": [],
   "source": [
    "# results = results[0]"
   ]
  },
  {
   "cell_type": "code",
   "execution_count": 27,
   "id": "b12e67ee",
   "metadata": {},
   "outputs": [],
   "source": [
    "def calc_mean_entropy_for_dataset(data):\n",
    "    entropies = []\n",
    "    for result in data:\n",
    "        try:\n",
    "            if result['calibration_results']:\n",
    "                probs = [float(prob) for prob in result['calibration_results'][0].values()]\n",
    "                entropies.append(entropy(np.array(probs), base=2))\n",
    "        except KeyError:\n",
    "            if result['calibration_result']:\n",
    "                probs = [float(prob) for prob in result['calibration_result'][0].values()]\n",
    "                entropies.append(entropy(np.array(probs), base=2))\n",
    "    return np.mean(entropies)"
   ]
  },
  {
   "cell_type": "code",
   "execution_count": 17,
   "id": "128d61e3",
   "metadata": {},
   "outputs": [],
   "source": [
    "# entropies = []\n",
    "# for result in results:\n",
    "#     try:\n",
    "#         if result['calibration_results']:\n",
    "#             probs = [float(prob) for prob in result['calibration_results'][0].values()]\n",
    "#             entropies.append(entropy(np.array(probs), base=2))\n",
    "#     except:\n",
    "#         print(result)\n",
    "#         raise Exception\n",
    "# #     print(probs)"
   ]
  },
  {
   "cell_type": "code",
   "execution_count": 18,
   "id": "9a6f7324",
   "metadata": {},
   "outputs": [
    {
     "data": {
      "text/plain": [
       "1.2730249265378493"
      ]
     },
     "execution_count": 18,
     "metadata": {},
     "output_type": "execute_result"
    }
   ],
   "source": [
    "calc_mean_entropy_for_dataset(results)"
   ]
  },
  {
   "cell_type": "code",
   "execution_count": 30,
   "id": "48582d2e",
   "metadata": {},
   "outputs": [
    {
     "name": "stdout",
     "output_type": "stream",
     "text": [
      "Processing file : vllm_llama2_13b_0.7_date_understanding_text_result.jsonl\n",
      "********************\n",
      "File : vllm_llama2_13b_0.7_date_understanding_text_result.jsonl\n",
      "Entropy: 1.505706233241636\n",
      "Processing file : vllm_llama2_13b_0.7_gsmhardv2_text_result.jsonl\n",
      "********************\n",
      "File : vllm_llama2_13b_0.7_gsmhardv2_text_result.jsonl\n",
      "Entropy: 2.8925716970021806\n",
      "Processing file : vllm_llama2_13b_0.7_object_counting_text_result.jsonl\n",
      "********************\n",
      "File : vllm_llama2_13b_0.7_object_counting_text_result.jsonl\n",
      "Entropy: 0.9701126236054995\n",
      "Processing file : vllm_llama2_13b_0.7_repeat_copy_text_result.jsonl\n",
      "********************\n",
      "File : vllm_llama2_13b_0.7_repeat_copy_text_result.jsonl\n",
      "Entropy: 2.0482571724022334\n",
      "Processing file : vllm_llama2_13b_0.7_gsm_text_result.jsonl\n",
      "********************\n",
      "File : vllm_llama2_13b_0.7_gsm_text_result.jsonl\n",
      "Entropy: 2.405418835253377\n"
     ]
    }
   ],
   "source": [
    "for file in glob.glob(INPUT_FOLDER + \"/*\"):\n",
    "    data = read_eval_results(file)[0]\n",
    "    file_name = file.split('/')[-1]\n",
    "    print(f\"Processing file : {file_name}\")\n",
    "    avg_entropy = calc_mean_entropy_for_dataset(data)\n",
    "    print(\"*\"*20)\n",
    "    print(f\"File : {file_name}\\nEntropy: {avg_entropy}\")"
   ]
  },
  {
   "cell_type": "code",
   "execution_count": null,
   "id": "7e2b71f4",
   "metadata": {},
   "outputs": [],
   "source": []
  }
 ],
 "metadata": {
  "kernelspec": {
   "display_name": "Python 3 (ipykernel)",
   "language": "python",
   "name": "python3"
  },
  "language_info": {
   "codemirror_mode": {
    "name": "ipython",
    "version": 3
   },
   "file_extension": ".py",
   "mimetype": "text/x-python",
   "name": "python",
   "nbconvert_exporter": "python",
   "pygments_lexer": "ipython3",
   "version": "3.9.13"
  }
 },
 "nbformat": 4,
 "nbformat_minor": 5
}
